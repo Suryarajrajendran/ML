{
 "cells": [
  {
   "cell_type": "markdown",
   "metadata": {},
   "source": [
    "### This is the Petrol consumption dataset. Here target variable is Petrol_Consumption and the rest are independent variables. Let us create models using OLS(Stats) & Gradient descent(Scikit learn) and compare them to get a glimpse of which model gives us better results in terms of accuracy."
   ]
  },
  {
   "cell_type": "markdown",
   "metadata": {},
   "source": [
    "### Let's perform EDA first"
   ]
  },
  {
   "cell_type": "markdown",
   "metadata": {},
   "source": [
    "#### Step 1: Download all the libraries which we generally use while performing EDA"
   ]
  },
  {
   "cell_type": "code",
   "execution_count": 1,
   "metadata": {},
   "outputs": [],
   "source": [
    "import pandas as pd\n",
    "import numpy as np\n",
    "import matplotlib.pyplot as plt\n",
    "import seaborn as sns\n",
    "%matplotlib inline\n",
    "from scipy.stats import norm\n",
    "from collections import Counter"
   ]
  },
  {
   "cell_type": "markdown",
   "metadata": {},
   "source": [
    "#### Step 2: Import the data set on which EDA has to be performed"
   ]
  },
  {
   "cell_type": "code",
   "execution_count": 2,
   "metadata": {},
   "outputs": [],
   "source": [
    "dataset = pd.read_csv('petrol_consumption.csv')"
   ]
  },
  {
   "cell_type": "markdown",
   "metadata": {},
   "source": [
    "#### Step 3: Analyse the dataset and get to know which type of problem it is\n",
    "    a. We are performing EDA on Petrol consumption dataset.\n",
    "    b. The main intention of building a model on Petrol consumption dataset is to predict petrol consumption for every state in US based on the data we have. Though state names are not specified in the dataset, we can get to know the info by going through documentation in Kaggle.\n",
    "    c. This is a Regression problem with numerical & continuous data."
   ]
  },
  {
   "cell_type": "markdown",
   "metadata": {},
   "source": [
    "#### Step 4: Fetch a few rows to get a gist of the attributes in the data set, whether there are any attributes which are not adding value to the target variable, etc."
   ]
  },
  {
   "cell_type": "code",
   "execution_count": 3,
   "metadata": {},
   "outputs": [
    {
     "data": {
      "text/html": [
       "<div>\n",
       "<style scoped>\n",
       "    .dataframe tbody tr th:only-of-type {\n",
       "        vertical-align: middle;\n",
       "    }\n",
       "\n",
       "    .dataframe tbody tr th {\n",
       "        vertical-align: top;\n",
       "    }\n",
       "\n",
       "    .dataframe thead th {\n",
       "        text-align: right;\n",
       "    }\n",
       "</style>\n",
       "<table border=\"1\" class=\"dataframe\">\n",
       "  <thead>\n",
       "    <tr style=\"text-align: right;\">\n",
       "      <th></th>\n",
       "      <th>Petrol_tax</th>\n",
       "      <th>Average_income</th>\n",
       "      <th>Paved_Highways</th>\n",
       "      <th>Population_Driver_licence(%)</th>\n",
       "      <th>Petrol_Consumption</th>\n",
       "    </tr>\n",
       "  </thead>\n",
       "  <tbody>\n",
       "    <tr>\n",
       "      <th>0</th>\n",
       "      <td>9.0</td>\n",
       "      <td>3571</td>\n",
       "      <td>1976</td>\n",
       "      <td>0.525</td>\n",
       "      <td>541</td>\n",
       "    </tr>\n",
       "    <tr>\n",
       "      <th>1</th>\n",
       "      <td>9.0</td>\n",
       "      <td>4092</td>\n",
       "      <td>1250</td>\n",
       "      <td>0.572</td>\n",
       "      <td>524</td>\n",
       "    </tr>\n",
       "    <tr>\n",
       "      <th>2</th>\n",
       "      <td>9.0</td>\n",
       "      <td>3865</td>\n",
       "      <td>1586</td>\n",
       "      <td>0.580</td>\n",
       "      <td>561</td>\n",
       "    </tr>\n",
       "    <tr>\n",
       "      <th>3</th>\n",
       "      <td>7.5</td>\n",
       "      <td>4870</td>\n",
       "      <td>2351</td>\n",
       "      <td>0.529</td>\n",
       "      <td>414</td>\n",
       "    </tr>\n",
       "    <tr>\n",
       "      <th>4</th>\n",
       "      <td>8.0</td>\n",
       "      <td>4399</td>\n",
       "      <td>431</td>\n",
       "      <td>0.544</td>\n",
       "      <td>410</td>\n",
       "    </tr>\n",
       "  </tbody>\n",
       "</table>\n",
       "</div>"
      ],
      "text/plain": [
       "   Petrol_tax  Average_income  Paved_Highways  Population_Driver_licence(%)  \\\n",
       "0         9.0            3571            1976                         0.525   \n",
       "1         9.0            4092            1250                         0.572   \n",
       "2         9.0            3865            1586                         0.580   \n",
       "3         7.5            4870            2351                         0.529   \n",
       "4         8.0            4399             431                         0.544   \n",
       "\n",
       "   Petrol_Consumption  \n",
       "0                 541  \n",
       "1                 524  \n",
       "2                 561  \n",
       "3                 414  \n",
       "4                 410  "
      ]
     },
     "execution_count": 3,
     "metadata": {},
     "output_type": "execute_result"
    }
   ],
   "source": [
    "dataset.head()"
   ]
  },
  {
   "cell_type": "markdown",
   "metadata": {},
   "source": [
    "#### Based on the data above, we can confirm that all the attributes are giving information related to Petrol consumption. So, at this point there is no need to remove any attribute."
   ]
  },
  {
   "cell_type": "markdown",
   "metadata": {},
   "source": [
    "#### Step 5: Get to know the structure of the data set using 'info()'method"
   ]
  },
  {
   "cell_type": "code",
   "execution_count": 4,
   "metadata": {},
   "outputs": [
    {
     "name": "stdout",
     "output_type": "stream",
     "text": [
      "<class 'pandas.core.frame.DataFrame'>\n",
      "RangeIndex: 48 entries, 0 to 47\n",
      "Data columns (total 5 columns):\n",
      " #   Column                        Non-Null Count  Dtype  \n",
      "---  ------                        --------------  -----  \n",
      " 0   Petrol_tax                    48 non-null     float64\n",
      " 1   Average_income                48 non-null     int64  \n",
      " 2   Paved_Highways                48 non-null     int64  \n",
      " 3   Population_Driver_licence(%)  48 non-null     float64\n",
      " 4   Petrol_Consumption            48 non-null     int64  \n",
      "dtypes: float64(2), int64(3)\n",
      "memory usage: 2.0 KB\n"
     ]
    }
   ],
   "source": [
    "dataset.info()"
   ]
  },
  {
   "cell_type": "markdown",
   "metadata": {},
   "source": [
    "#### By looking at the data above, we can say that all the attributes are numerical and continuous. Also, none of the attributes have null values."
   ]
  },
  {
   "cell_type": "markdown",
   "metadata": {},
   "source": [
    "#### Step 6: Get the 6-point summary using 'describe()' method"
   ]
  },
  {
   "cell_type": "code",
   "execution_count": 5,
   "metadata": {},
   "outputs": [
    {
     "data": {
      "text/html": [
       "<div>\n",
       "<style scoped>\n",
       "    .dataframe tbody tr th:only-of-type {\n",
       "        vertical-align: middle;\n",
       "    }\n",
       "\n",
       "    .dataframe tbody tr th {\n",
       "        vertical-align: top;\n",
       "    }\n",
       "\n",
       "    .dataframe thead th {\n",
       "        text-align: right;\n",
       "    }\n",
       "</style>\n",
       "<table border=\"1\" class=\"dataframe\">\n",
       "  <thead>\n",
       "    <tr style=\"text-align: right;\">\n",
       "      <th></th>\n",
       "      <th>Petrol_tax</th>\n",
       "      <th>Average_income</th>\n",
       "      <th>Paved_Highways</th>\n",
       "      <th>Population_Driver_licence(%)</th>\n",
       "      <th>Petrol_Consumption</th>\n",
       "    </tr>\n",
       "  </thead>\n",
       "  <tbody>\n",
       "    <tr>\n",
       "      <th>count</th>\n",
       "      <td>48.000000</td>\n",
       "      <td>48.000000</td>\n",
       "      <td>48.000000</td>\n",
       "      <td>48.000000</td>\n",
       "      <td>48.000000</td>\n",
       "    </tr>\n",
       "    <tr>\n",
       "      <th>mean</th>\n",
       "      <td>7.668333</td>\n",
       "      <td>4241.833333</td>\n",
       "      <td>5565.416667</td>\n",
       "      <td>0.570333</td>\n",
       "      <td>576.770833</td>\n",
       "    </tr>\n",
       "    <tr>\n",
       "      <th>std</th>\n",
       "      <td>0.950770</td>\n",
       "      <td>573.623768</td>\n",
       "      <td>3491.507166</td>\n",
       "      <td>0.055470</td>\n",
       "      <td>111.885816</td>\n",
       "    </tr>\n",
       "    <tr>\n",
       "      <th>min</th>\n",
       "      <td>5.000000</td>\n",
       "      <td>3063.000000</td>\n",
       "      <td>431.000000</td>\n",
       "      <td>0.451000</td>\n",
       "      <td>344.000000</td>\n",
       "    </tr>\n",
       "    <tr>\n",
       "      <th>25%</th>\n",
       "      <td>7.000000</td>\n",
       "      <td>3739.000000</td>\n",
       "      <td>3110.250000</td>\n",
       "      <td>0.529750</td>\n",
       "      <td>509.500000</td>\n",
       "    </tr>\n",
       "    <tr>\n",
       "      <th>50%</th>\n",
       "      <td>7.500000</td>\n",
       "      <td>4298.000000</td>\n",
       "      <td>4735.500000</td>\n",
       "      <td>0.564500</td>\n",
       "      <td>568.500000</td>\n",
       "    </tr>\n",
       "    <tr>\n",
       "      <th>75%</th>\n",
       "      <td>8.125000</td>\n",
       "      <td>4578.750000</td>\n",
       "      <td>7156.000000</td>\n",
       "      <td>0.595250</td>\n",
       "      <td>632.750000</td>\n",
       "    </tr>\n",
       "    <tr>\n",
       "      <th>max</th>\n",
       "      <td>10.000000</td>\n",
       "      <td>5342.000000</td>\n",
       "      <td>17782.000000</td>\n",
       "      <td>0.724000</td>\n",
       "      <td>968.000000</td>\n",
       "    </tr>\n",
       "  </tbody>\n",
       "</table>\n",
       "</div>"
      ],
      "text/plain": [
       "       Petrol_tax  Average_income  Paved_Highways  \\\n",
       "count   48.000000       48.000000       48.000000   \n",
       "mean     7.668333     4241.833333     5565.416667   \n",
       "std      0.950770      573.623768     3491.507166   \n",
       "min      5.000000     3063.000000      431.000000   \n",
       "25%      7.000000     3739.000000     3110.250000   \n",
       "50%      7.500000     4298.000000     4735.500000   \n",
       "75%      8.125000     4578.750000     7156.000000   \n",
       "max     10.000000     5342.000000    17782.000000   \n",
       "\n",
       "       Population_Driver_licence(%)  Petrol_Consumption  \n",
       "count                     48.000000           48.000000  \n",
       "mean                       0.570333          576.770833  \n",
       "std                        0.055470          111.885816  \n",
       "min                        0.451000          344.000000  \n",
       "25%                        0.529750          509.500000  \n",
       "50%                        0.564500          568.500000  \n",
       "75%                        0.595250          632.750000  \n",
       "max                        0.724000          968.000000  "
      ]
     },
     "execution_count": 5,
     "metadata": {},
     "output_type": "execute_result"
    }
   ],
   "source": [
    "dataset.describe()"
   ]
  },
  {
   "cell_type": "markdown",
   "metadata": {},
   "source": [
    "#### By looking at values below, there are a few interesting points to note:\n",
    "    a. Values in all the variables except 'Paved_Highways' are symmetric, i.e. Mean and Median are very close\n",
    "    b. 'Paved_Highways' is Skewed a bit towards the right"
   ]
  },
  {
   "cell_type": "markdown",
   "metadata": {},
   "source": [
    "#### Step 7: Since we don't have any categorical attributes, we can skip to univariate analysis on numerical attributes."
   ]
  },
  {
   "cell_type": "markdown",
   "metadata": {},
   "source": [
    "#### Step 8: Check the type of distribution continuous attributes have and compare it with Normal distribution. We can do this by plotting Histogram using 'distplot()' method. "
   ]
  },
  {
   "cell_type": "code",
   "execution_count": 6,
   "metadata": {},
   "outputs": [
    {
     "name": "stderr",
     "output_type": "stream",
     "text": [
      "/Users/Surya/opt/anaconda3/lib/python3.8/site-packages/seaborn/distributions.py:2551: FutureWarning: `distplot` is a deprecated function and will be removed in a future version. Please adapt your code to use either `displot` (a figure-level function with similar flexibility) or `histplot` (an axes-level function for histograms).\n",
      "  warnings.warn(msg, FutureWarning)\n"
     ]
    },
    {
     "data": {
      "text/plain": [
       "<AxesSubplot:xlabel='Petrol_tax', ylabel='Density'>"
      ]
     },
     "execution_count": 6,
     "metadata": {},
     "output_type": "execute_result"
    },
    {
     "data": {
      "image/png": "[encoded data removed]",
      "text/plain": [
       "<Figure size 432x288 with 1 Axes>"
      ]
     },
     "metadata": {
      "needs_background": "light"
     },
     "output_type": "display_data"
    }
   ],
   "source": [
    "sns.distplot(dataset['Petrol_tax'],fit=norm)"
   ]
  },
  {
   "cell_type": "code",
   "execution_count": 7,
   "metadata": {},
   "outputs": [
    {
     "name": "stderr",
     "output_type": "stream",
     "text": [
      "/Users/Surya/opt/anaconda3/lib/python3.8/site-packages/seaborn/distributions.py:2551: FutureWarning: `distplot` is a deprecated function and will be removed in a future version. Please adapt your code to use either `displot` (a figure-level function with similar flexibility) or `histplot` (an axes-level function for histograms).\n",
      "  warnings.warn(msg, FutureWarning)\n"
     ]
    },
    {
     "data": {
      "text/plain": [
       "<AxesSubplot:xlabel='Average_income', ylabel='Density'>"
      ]
     },
     "execution_count": 7,
     "metadata": {},
     "output_type": "execute_result"
    },
    {
     "data": {
      "image/png": "[encoded data removed]",
      "text/plain": [
       "<Figure size 432x288 with 1 Axes>"
      ]
     },
     "metadata": {
      "needs_background": "light"
     },
     "output_type": "display_data"
    }
   ],
   "source": [
    "sns.distplot(dataset['Average_income'],fit=norm)"
   ]
  },
  {
   "cell_type": "code",
   "execution_count": 8,
   "metadata": {},
   "outputs": [
    {
     "name": "stderr",
     "output_type": "stream",
     "text": [
      "/Users/Surya/opt/anaconda3/lib/python3.8/site-packages/seaborn/distributions.py:2551: FutureWarning: `distplot` is a deprecated function and will be removed in a future version. Please adapt your code to use either `displot` (a figure-level function with similar flexibility) or `histplot` (an axes-level function for histograms).\n",
      "  warnings.warn(msg, FutureWarning)\n"
     ]
    },
    {
     "data": {
      "text/plain": [
       "<AxesSubplot:xlabel='Paved_Highways', ylabel='Density'>"
      ]
     },
     "execution_count": 8,
     "metadata": {},
     "output_type": "execute_result"
    },
    {
     "data": {
      "image/png": "[encoded data removed]",
      "text/plain": [
       "<Figure size 432x288 with 1 Axes>"
      ]
     },
     "metadata": {
      "needs_background": "light"
     },
     "output_type": "display_data"
    }
   ],
   "source": [
    "sns.distplot(dataset['Paved_Highways'],fit=norm)"
   ]
  },
  {
   "cell_type": "code",
   "execution_count": 9,
   "metadata": {},
   "outputs": [
    {
     "name": "stderr",
     "output_type": "stream",
     "text": [
      "/Users/Surya/opt/anaconda3/lib/python3.8/site-packages/seaborn/distributions.py:2551: FutureWarning: `distplot` is a deprecated function and will be removed in a future version. Please adapt your code to use either `displot` (a figure-level function with similar flexibility) or `histplot` (an axes-level function for histograms).\n",
      "  warnings.warn(msg, FutureWarning)\n"
     ]
    },
    {
     "data": {
      "text/plain": [
       "<AxesSubplot:xlabel='Population_Driver_licence(%)', ylabel='Density'>"
      ]
     },
     "execution_count": 9,
     "metadata": {},
     "output_type": "execute_result"
    },
    {
     "data": {
      "image/png": "[encoded data removed]",
      "text/plain": [
       "<Figure size 432x288 with 1 Axes>"
      ]
     },
     "metadata": {
      "needs_background": "light"
     },
     "output_type": "display_data"
    }
   ],
   "source": [
    "sns.distplot(dataset['Population_Driver_licence(%)'],fit=norm)"
   ]
  },
  {
   "cell_type": "code",
   "execution_count": 10,
   "metadata": {},
   "outputs": [
    {
     "name": "stderr",
     "output_type": "stream",
     "text": [
      "/Users/Surya/opt/anaconda3/lib/python3.8/site-packages/seaborn/distributions.py:2551: FutureWarning: `distplot` is a deprecated function and will be removed in a future version. Please adapt your code to use either `displot` (a figure-level function with similar flexibility) or `histplot` (an axes-level function for histograms).\n",
      "  warnings.warn(msg, FutureWarning)\n"
     ]
    },
    {
     "data": {
      "text/plain": [
       "<AxesSubplot:xlabel='Petrol_Consumption', ylabel='Density'>"
      ]
     },
     "execution_count": 10,
     "metadata": {},
     "output_type": "execute_result"
    },
    {
     "data": {
      "image/png": "[encoded data removed]",
      "text/plain": [
       "<Figure size 432x288 with 1 Axes>"
      ]
     },
     "metadata": {
      "needs_background": "light"
     },
     "output_type": "display_data"
    }
   ],
   "source": [
    "sns.distplot(dataset['Petrol_Consumption'],fit=norm)"
   ]
  },
  {
   "cell_type": "markdown",
   "metadata": {},
   "source": [
    "#### By looking at the graphs above, we can say that apart from a few minor mismatches, the probability distribution every variable is mostly similar to Normal distribution."
   ]
  },
  {
   "cell_type": "markdown",
   "metadata": {},
   "source": [
    "#### Step 9: Identification and treatment of Missing values. As we already know, there are no missing values in the data set. So, we can proceed with further steps."
   ]
  },
  {
   "cell_type": "markdown",
   "metadata": {},
   "source": [
    "#### Step 10: Identification and treatment of Outliers. By having a look at the data, we can say that there may be mathematical outliers in all the attributes apart from 'Average_income'. But while looking at the values closely, we can say that there are no unreal or imaginary values. So, we can skip this step and proceed with further steps. "
   ]
  },
  {
   "cell_type": "markdown",
   "metadata": {},
   "source": [
    "#### Step 11: This is the last step of EDA. In this step we try to find the duplicate rows using 'duplicated()' function."
   ]
  },
  {
   "cell_type": "code",
   "execution_count": 11,
   "metadata": {},
   "outputs": [
    {
     "data": {
      "text/html": [
       "<div>\n",
       "<style scoped>\n",
       "    .dataframe tbody tr th:only-of-type {\n",
       "        vertical-align: middle;\n",
       "    }\n",
       "\n",
       "    .dataframe tbody tr th {\n",
       "        vertical-align: top;\n",
       "    }\n",
       "\n",
       "    .dataframe thead th {\n",
       "        text-align: right;\n",
       "    }\n",
       "</style>\n",
       "<table border=\"1\" class=\"dataframe\">\n",
       "  <thead>\n",
       "    <tr style=\"text-align: right;\">\n",
       "      <th></th>\n",
       "      <th>Petrol_tax</th>\n",
       "      <th>Average_income</th>\n",
       "      <th>Paved_Highways</th>\n",
       "      <th>Population_Driver_licence(%)</th>\n",
       "      <th>Petrol_Consumption</th>\n",
       "    </tr>\n",
       "  </thead>\n",
       "  <tbody>\n",
       "  </tbody>\n",
       "</table>\n",
       "</div>"
      ],
      "text/plain": [
       "Empty DataFrame\n",
       "Columns: [Petrol_tax, Average_income, Paved_Highways, Population_Driver_licence(%), Petrol_Consumption]\n",
       "Index: []"
      ]
     },
     "execution_count": 11,
     "metadata": {},
     "output_type": "execute_result"
    }
   ],
   "source": [
    "# Check for duplicates\n",
    "duplicate = dataset[dataset.duplicated()]\n",
    "\n",
    "# This will fetch rows which are duplicate. As seen below, there are no duplicate rows in the Dataframe.\n",
    "duplicate"
   ]
  },
  {
   "cell_type": "markdown",
   "metadata": {},
   "source": [
    "#### Since there are no duplicates, we can now move on to model building steps."
   ]
  },
  {
   "cell_type": "markdown",
   "metadata": {},
   "source": [
    "### Let's start with model biulding steps."
   ]
  },
  {
   "cell_type": "markdown",
   "metadata": {},
   "source": [
    "#### Step 1: Since we are trying to build a Linear Regression model, let's check the correlation values. Plot 'pairplot()' and 'heatmap()' and check the correlation between each of the independent variables and Target variable or other independent variables."
   ]
  },
  {
   "cell_type": "markdown",
   "metadata": {},
   "source": [
    "#### In this dataset, we don't have any attribute with categorical data. If we would have had categorical data, we should have converted categorical data to Numerical by setting a pattern and then proceed with Step 3."
   ]
  },
  {
   "cell_type": "code",
   "execution_count": 12,
   "metadata": {},
   "outputs": [
    {
     "data": {
      "text/plain": [
       "<seaborn.axisgrid.PairGrid at 0x7f7ee541a550>"
      ]
     },
     "execution_count": 12,
     "metadata": {},
     "output_type": "execute_result"
    },
    {
     "data": {
      "image/png": "[encoded data removed]",
      "text/plain": [
       "<Figure size 900x900 with 30 Axes>"
      ]
     },
     "metadata": {
      "needs_background": "light"
     },
     "output_type": "display_data"
    }
   ],
   "source": [
    "sns.pairplot(dataset)"
   ]
  },
  {
   "cell_type": "code",
   "execution_count": 13,
   "metadata": {},
   "outputs": [
    {
     "data": {
      "image/png": "[encoded data removed]",
      "text/plain": [
       "<Figure size 432x288 with 2 Axes>"
      ]
     },
     "metadata": {
      "needs_background": "light"
     },
     "output_type": "display_data"
    }
   ],
   "source": [
    "sns.heatmap(dataset.corr(), annot = True , fmt=\".2f\")\n",
    "plt.show()"
   ]
  },
  {
   "cell_type": "markdown",
   "metadata": {},
   "source": [
    "#### By looking at the 'pairplot()' and 'heatmap()' below, we can say below points:\n",
    "    a. There is strong +ve correlation between 'Population_Driver_licence(%)' and 'Petrol_Consumption'\n",
    "    b. There is intermediate -ve correlation between 'Petrol_tax' and 'Average_income' individually with 'Petrol_Consumption'\n",
    "    c. There is very weak correlation between 'Paved_Highways' and 'Petrol_Consumption'\n",
    "    d. Also, when we see correlation between independent variables, we can say that there is Intermediate relat-ion between 'Paved_Highways' and 'Population_Driver_licence(%)' individually with 'Petrol_tax'"
   ]
  },
  {
   "cell_type": "markdown",
   "metadata": {},
   "source": [
    "#### Now that we have noted correlation values, let's proceed with model building."
   ]
  },
  {
   "cell_type": "markdown",
   "metadata": {},
   "source": [
    "#### Step 2: Let's create new dataframes X and Y, one with independent attributes and another with the target arribute so that we can randomly split train data and test data using 'train_test_split()' in 'sklearn.model_selection' library."
   ]
  },
  {
   "cell_type": "code",
   "execution_count": 14,
   "metadata": {},
   "outputs": [],
   "source": [
    "#Creating new dataframe X and Y, one with independent attributes and another with the target arribute \n",
    "X = dataset[['Petrol_tax','Average_income','Population_Driver_licence(%)','Paved_Highways']]\n",
    "Y = dataset['Petrol_Consumption']"
   ]
  },
  {
   "cell_type": "code",
   "execution_count": 15,
   "metadata": {},
   "outputs": [],
   "source": [
    "#Splitting train data and test data using 'train_test_split()' in 'sklearn.model_selection' library\n",
    "from sklearn.model_selection import train_test_split\n",
    "\n",
    "#test_size=0.2 represent that the data has to be split in such a way that 20% is test data and 80% is train data\n",
    "X_train, X_test, y_train, y_test = train_test_split(X, Y, test_size=0.2,random_state=13)"
   ]
  },
  {
   "cell_type": "code",
   "execution_count": 16,
   "metadata": {},
   "outputs": [
    {
     "data": {
      "text/plain": [
       "24    460\n",
       "45    510\n",
       "15    635\n",
       "36    640\n",
       "17    714\n",
       "40    587\n",
       "5     457\n",
       "3     414\n",
       "7     467\n",
       "33    628\n",
       "12    525\n",
       "8     464\n",
       "42    632\n",
       "47    524\n",
       "1     524\n",
       "28    574\n",
       "30    571\n",
       "22    464\n",
       "43    591\n",
       "31    554\n",
       "21    540\n",
       "19    640\n",
       "32    577\n",
       "39    968\n",
       "11    471\n",
       "9     498\n",
       "46    610\n",
       "13    508\n",
       "37    704\n",
       "2     561\n",
       "26    577\n",
       "35    644\n",
       "25    566\n",
       "34    487\n",
       "38    648\n",
       "16    603\n",
       "10    580\n",
       "18    865\n",
       "Name: Petrol_Consumption, dtype: int64"
      ]
     },
     "execution_count": 16,
     "metadata": {},
     "output_type": "execute_result"
    }
   ],
   "source": [
    "y_train"
   ]
  },
  {
   "cell_type": "code",
   "execution_count": 17,
   "metadata": {},
   "outputs": [
    {
     "data": {
      "text/plain": [
       "0     541\n",
       "41    699\n",
       "4     410\n",
       "6     344\n",
       "14    566\n",
       "29    534\n",
       "23    547\n",
       "27    631\n",
       "44    782\n",
       "20    649\n",
       "Name: Petrol_Consumption, dtype: int64"
      ]
     },
     "execution_count": 17,
     "metadata": {},
     "output_type": "execute_result"
    }
   ],
   "source": [
    "y_test"
   ]
  },
  {
   "cell_type": "markdown",
   "metadata": {},
   "source": [
    "#### Step 3: Let's create Gradient Descent model using 'LinearRegression()' from the Scikit Learn library. In case of OLS, we have to use Stats library."
   ]
  },
  {
   "cell_type": "code",
   "execution_count": 18,
   "metadata": {},
   "outputs": [
    {
     "data": {
      "text/plain": [
       "LinearRegression()"
      ]
     },
     "execution_count": 18,
     "metadata": {},
     "output_type": "execute_result"
    }
   ],
   "source": [
    "from sklearn.linear_model import LinearRegression\n",
    "\n",
    "# 'fit_intercept=True' is to enable constant \n",
    "regressor = LinearRegression(fit_intercept=True)\n",
    "\n",
    "# Passing Dataset with Independent variables and Dataset with Dependent variable as X and Y\n",
    "# This will create an equation with best fit line following OLS model\n",
    "regressor.fit(X_train, y_train)"
   ]
  },
  {
   "cell_type": "code",
   "execution_count": 19,
   "metadata": {},
   "outputs": [
    {
     "data": {
      "text/html": [
       "<div>\n",
       "<style scoped>\n",
       "    .dataframe tbody tr th:only-of-type {\n",
       "        vertical-align: middle;\n",
       "    }\n",
       "\n",
       "    .dataframe tbody tr th {\n",
       "        vertical-align: top;\n",
       "    }\n",
       "\n",
       "    .dataframe thead th {\n",
       "        text-align: right;\n",
       "    }\n",
       "</style>\n",
       "<table border=\"1\" class=\"dataframe\">\n",
       "  <thead>\n",
       "    <tr style=\"text-align: right;\">\n",
       "      <th></th>\n",
       "      <th>Coefficient</th>\n",
       "    </tr>\n",
       "  </thead>\n",
       "  <tbody>\n",
       "    <tr>\n",
       "      <th>Petrol_tax</th>\n",
       "      <td>-40.214615</td>\n",
       "    </tr>\n",
       "    <tr>\n",
       "      <th>Average_income</th>\n",
       "      <td>-0.062788</td>\n",
       "    </tr>\n",
       "    <tr>\n",
       "      <th>Population_Driver_licence(%)</th>\n",
       "      <td>1426.621220</td>\n",
       "    </tr>\n",
       "    <tr>\n",
       "      <th>Paved_Highways</th>\n",
       "      <td>-0.003358</td>\n",
       "    </tr>\n",
       "  </tbody>\n",
       "</table>\n",
       "</div>"
      ],
      "text/plain": [
       "                              Coefficient\n",
       "Petrol_tax                     -40.214615\n",
       "Average_income                  -0.062788\n",
       "Population_Driver_licence(%)  1426.621220\n",
       "Paved_Highways                  -0.003358"
      ]
     },
     "execution_count": 19,
     "metadata": {},
     "output_type": "execute_result"
    }
   ],
   "source": [
    "# Fetching co-efficient value for each Independent variable\n",
    "coeff_df = pd.DataFrame(regressor.coef_, X.columns, columns=['Coefficient'])\n",
    "coeff_df"
   ]
  },
  {
   "cell_type": "code",
   "execution_count": 20,
   "metadata": {},
   "outputs": [
    {
     "data": {
      "text/plain": [
       "353.49729129559523"
      ]
     },
     "execution_count": 20,
     "metadata": {},
     "output_type": "execute_result"
    }
   ],
   "source": [
    "#Fetching Constant value\n",
    "regressor.intercept_"
   ]
  },
  {
   "cell_type": "markdown",
   "metadata": {},
   "source": [
    "#### Step 4: Calculate Predicted values for train data based on the approximate co-efficients produced by the model"
   ]
  },
  {
   "cell_type": "code",
   "execution_count": 21,
   "metadata": {},
   "outputs": [
    {
     "data": {
      "text/plain": [
       "array([501.75318134, 511.88861177, 602.15179804, 646.19789721,\n",
       "       593.05651563, 670.13661061, 426.06105487, 492.89684077,\n",
       "       491.66997703, 607.63044299, 565.1525867 , 478.44064336,\n",
       "       650.05140945, 571.02464073, 546.46620998, 551.94598344,\n",
       "       559.24740516, 404.87135005, 552.80863328, 572.43466715,\n",
       "       575.71134779, 684.74937036, 642.13830662, 744.7560876 ,\n",
       "       431.37205803, 547.6213926 , 677.33050397, 563.2567191 ,\n",
       "       641.86736818, 571.00372769, 578.94422998, 721.20103277,\n",
       "       518.07488253, 493.29133418, 718.29319589, 595.36363237,\n",
       "       492.24238485, 788.89596594])"
      ]
     },
     "execution_count": 21,
     "metadata": {},
     "output_type": "execute_result"
    }
   ],
   "source": [
    "# Calculating Predicted values for train data\n",
    "y_pred = regressor.predict(X_train)\n",
    "y_pred"
   ]
  },
  {
   "cell_type": "code",
   "execution_count": 22,
   "metadata": {},
   "outputs": [
    {
     "data": {
      "text/html": [
       "<div>\n",
       "<style scoped>\n",
       "    .dataframe tbody tr th:only-of-type {\n",
       "        vertical-align: middle;\n",
       "    }\n",
       "\n",
       "    .dataframe tbody tr th {\n",
       "        vertical-align: top;\n",
       "    }\n",
       "\n",
       "    .dataframe thead th {\n",
       "        text-align: right;\n",
       "    }\n",
       "</style>\n",
       "<table border=\"1\" class=\"dataframe\">\n",
       "  <thead>\n",
       "    <tr style=\"text-align: right;\">\n",
       "      <th></th>\n",
       "      <th>Actual</th>\n",
       "      <th>Predicted</th>\n",
       "    </tr>\n",
       "  </thead>\n",
       "  <tbody>\n",
       "    <tr>\n",
       "      <th>24</th>\n",
       "      <td>460</td>\n",
       "      <td>501.753181</td>\n",
       "    </tr>\n",
       "    <tr>\n",
       "      <th>45</th>\n",
       "      <td>510</td>\n",
       "      <td>511.888612</td>\n",
       "    </tr>\n",
       "    <tr>\n",
       "      <th>15</th>\n",
       "      <td>635</td>\n",
       "      <td>602.151798</td>\n",
       "    </tr>\n",
       "    <tr>\n",
       "      <th>36</th>\n",
       "      <td>640</td>\n",
       "      <td>646.197897</td>\n",
       "    </tr>\n",
       "    <tr>\n",
       "      <th>17</th>\n",
       "      <td>714</td>\n",
       "      <td>593.056516</td>\n",
       "    </tr>\n",
       "    <tr>\n",
       "      <th>40</th>\n",
       "      <td>587</td>\n",
       "      <td>670.136611</td>\n",
       "    </tr>\n",
       "    <tr>\n",
       "      <th>5</th>\n",
       "      <td>457</td>\n",
       "      <td>426.061055</td>\n",
       "    </tr>\n",
       "    <tr>\n",
       "      <th>3</th>\n",
       "      <td>414</td>\n",
       "      <td>492.896841</td>\n",
       "    </tr>\n",
       "    <tr>\n",
       "      <th>7</th>\n",
       "      <td>467</td>\n",
       "      <td>491.669977</td>\n",
       "    </tr>\n",
       "    <tr>\n",
       "      <th>33</th>\n",
       "      <td>628</td>\n",
       "      <td>607.630443</td>\n",
       "    </tr>\n",
       "    <tr>\n",
       "      <th>12</th>\n",
       "      <td>525</td>\n",
       "      <td>565.152587</td>\n",
       "    </tr>\n",
       "    <tr>\n",
       "      <th>8</th>\n",
       "      <td>464</td>\n",
       "      <td>478.440643</td>\n",
       "    </tr>\n",
       "    <tr>\n",
       "      <th>42</th>\n",
       "      <td>632</td>\n",
       "      <td>650.051409</td>\n",
       "    </tr>\n",
       "    <tr>\n",
       "      <th>47</th>\n",
       "      <td>524</td>\n",
       "      <td>571.024641</td>\n",
       "    </tr>\n",
       "    <tr>\n",
       "      <th>1</th>\n",
       "      <td>524</td>\n",
       "      <td>546.466210</td>\n",
       "    </tr>\n",
       "    <tr>\n",
       "      <th>28</th>\n",
       "      <td>574</td>\n",
       "      <td>551.945983</td>\n",
       "    </tr>\n",
       "    <tr>\n",
       "      <th>30</th>\n",
       "      <td>571</td>\n",
       "      <td>559.247405</td>\n",
       "    </tr>\n",
       "    <tr>\n",
       "      <th>22</th>\n",
       "      <td>464</td>\n",
       "      <td>404.871350</td>\n",
       "    </tr>\n",
       "    <tr>\n",
       "      <th>43</th>\n",
       "      <td>591</td>\n",
       "      <td>552.808633</td>\n",
       "    </tr>\n",
       "    <tr>\n",
       "      <th>31</th>\n",
       "      <td>554</td>\n",
       "      <td>572.434667</td>\n",
       "    </tr>\n",
       "    <tr>\n",
       "      <th>21</th>\n",
       "      <td>540</td>\n",
       "      <td>575.711348</td>\n",
       "    </tr>\n",
       "    <tr>\n",
       "      <th>19</th>\n",
       "      <td>640</td>\n",
       "      <td>684.749370</td>\n",
       "    </tr>\n",
       "    <tr>\n",
       "      <th>32</th>\n",
       "      <td>577</td>\n",
       "      <td>642.138307</td>\n",
       "    </tr>\n",
       "    <tr>\n",
       "      <th>39</th>\n",
       "      <td>968</td>\n",
       "      <td>744.756088</td>\n",
       "    </tr>\n",
       "    <tr>\n",
       "      <th>11</th>\n",
       "      <td>471</td>\n",
       "      <td>431.372058</td>\n",
       "    </tr>\n",
       "    <tr>\n",
       "      <th>9</th>\n",
       "      <td>498</td>\n",
       "      <td>547.621393</td>\n",
       "    </tr>\n",
       "    <tr>\n",
       "      <th>46</th>\n",
       "      <td>610</td>\n",
       "      <td>677.330504</td>\n",
       "    </tr>\n",
       "    <tr>\n",
       "      <th>13</th>\n",
       "      <td>508</td>\n",
       "      <td>563.256719</td>\n",
       "    </tr>\n",
       "    <tr>\n",
       "      <th>37</th>\n",
       "      <td>704</td>\n",
       "      <td>641.867368</td>\n",
       "    </tr>\n",
       "    <tr>\n",
       "      <th>2</th>\n",
       "      <td>561</td>\n",
       "      <td>571.003728</td>\n",
       "    </tr>\n",
       "    <tr>\n",
       "      <th>26</th>\n",
       "      <td>577</td>\n",
       "      <td>578.944230</td>\n",
       "    </tr>\n",
       "    <tr>\n",
       "      <th>35</th>\n",
       "      <td>644</td>\n",
       "      <td>721.201033</td>\n",
       "    </tr>\n",
       "    <tr>\n",
       "      <th>25</th>\n",
       "      <td>566</td>\n",
       "      <td>518.074883</td>\n",
       "    </tr>\n",
       "    <tr>\n",
       "      <th>34</th>\n",
       "      <td>487</td>\n",
       "      <td>493.291334</td>\n",
       "    </tr>\n",
       "    <tr>\n",
       "      <th>38</th>\n",
       "      <td>648</td>\n",
       "      <td>718.293196</td>\n",
       "    </tr>\n",
       "    <tr>\n",
       "      <th>16</th>\n",
       "      <td>603</td>\n",
       "      <td>595.363632</td>\n",
       "    </tr>\n",
       "    <tr>\n",
       "      <th>10</th>\n",
       "      <td>580</td>\n",
       "      <td>492.242385</td>\n",
       "    </tr>\n",
       "    <tr>\n",
       "      <th>18</th>\n",
       "      <td>865</td>\n",
       "      <td>788.895966</td>\n",
       "    </tr>\n",
       "  </tbody>\n",
       "</table>\n",
       "</div>"
      ],
      "text/plain": [
       "    Actual   Predicted\n",
       "24     460  501.753181\n",
       "45     510  511.888612\n",
       "15     635  602.151798\n",
       "36     640  646.197897\n",
       "17     714  593.056516\n",
       "40     587  670.136611\n",
       "5      457  426.061055\n",
       "3      414  492.896841\n",
       "7      467  491.669977\n",
       "33     628  607.630443\n",
       "12     525  565.152587\n",
       "8      464  478.440643\n",
       "42     632  650.051409\n",
       "47     524  571.024641\n",
       "1      524  546.466210\n",
       "28     574  551.945983\n",
       "30     571  559.247405\n",
       "22     464  404.871350\n",
       "43     591  552.808633\n",
       "31     554  572.434667\n",
       "21     540  575.711348\n",
       "19     640  684.749370\n",
       "32     577  642.138307\n",
       "39     968  744.756088\n",
       "11     471  431.372058\n",
       "9      498  547.621393\n",
       "46     610  677.330504\n",
       "13     508  563.256719\n",
       "37     704  641.867368\n",
       "2      561  571.003728\n",
       "26     577  578.944230\n",
       "35     644  721.201033\n",
       "25     566  518.074883\n",
       "34     487  493.291334\n",
       "38     648  718.293196\n",
       "16     603  595.363632\n",
       "10     580  492.242385\n",
       "18     865  788.895966"
      ]
     },
     "execution_count": 22,
     "metadata": {},
     "output_type": "execute_result"
    }
   ],
   "source": [
    "# Getting a sense of Actual and Predicted values for the train data\n",
    "df = pd.DataFrame({'Actual': y_train, 'Predicted': y_pred})\n",
    "df"
   ]
  },
  {
   "cell_type": "markdown",
   "metadata": {},
   "source": [
    "#### Since we have created a Linear Regression model based on Scikit Learn library, we don't have to worry about Assumptions of OLS. We can proceed with the Linear Regression Model Evaluation metrics."
   ]
  },
  {
   "cell_type": "markdown",
   "metadata": {},
   "source": [
    "### Linear Regression Model Evaluation Techiniques: \n",
    "    a. There are two ways to evaluate Linear Regression models. One is using MAE and the other one is using MSE & RMSE. Which metric to be used is subjective, i.e. depends from case to case. But, these measures will not give an absolute measure.\n",
    "    b. To get an absolute measure, we'll have to calculate MAPE(Mean Absolute Percentage Error). We calculate this to get difference in terms of percentages."
   ]
  },
  {
   "cell_type": "markdown",
   "metadata": {},
   "source": [
    "#### Step 5: Calculate MAE, MSE, RMSE and MAPE for Train data"
   ]
  },
  {
   "cell_type": "code",
   "execution_count": 23,
   "metadata": {},
   "outputs": [
    {
     "name": "stdout",
     "output_type": "stream",
     "text": [
      "Mean Absolute Error: 46.35023352889988\n",
      "Mean Squared Error: 3766.3675675584586\n",
      "Root Mean Squared Error: 61.37073869164733\n",
      "Mean Absolute percentage error: 7.7194871947663\n"
     ]
    }
   ],
   "source": [
    "# Model evaluation metrics - Scikit learn model\n",
    "\n",
    "y_pred = regressor.predict(X_train)\n",
    "\n",
    "from sklearn import metrics\n",
    "print('Mean Absolute Error:', metrics.mean_absolute_error(y_train, y_pred))\n",
    "print('Mean Squared Error:', metrics.mean_squared_error(y_train, y_pred))\n",
    "print('Root Mean Squared Error:', np.sqrt(metrics.mean_squared_error(y_train, y_pred)))\n",
    "\n",
    "# Function to calculate MAPE(Mean Absolute Percentage Error)\n",
    "def mean_absolute_percentage_error(y_true, y_pred): \n",
    "    return np.mean(np.abs((y_true - y_pred) / y_true)) * 100\n",
    "\n",
    "# Model evaluation metrics - Scikit learn model\n",
    "print('Mean Absolute percentage error:', mean_absolute_percentage_error(y_train, y_pred))"
   ]
  },
  {
   "cell_type": "markdown",
   "metadata": {},
   "source": [
    "#### Step 5 (continuation): Calculate MAE, MSE, RMSE and MAPE for Train data"
   ]
  },
  {
   "cell_type": "code",
   "execution_count": 24,
   "metadata": {},
   "outputs": [
    {
     "name": "stdout",
     "output_type": "stream",
     "text": [
      "Mean Absolute Error: 64.21137215976034\n",
      "Mean Squared Error: 4960.283075036839\n",
      "Root Mean Squared Error: 70.42927711567711\n",
      "Mean Absolute percentage error: 12.194036441841423\n"
     ]
    }
   ],
   "source": [
    "# Model evaluation metrics - Scikit learn model\n",
    "\n",
    "y_pred_test = regressor.predict(X_test)\n",
    "\n",
    "from sklearn import metrics\n",
    "print('Mean Absolute Error:', metrics.mean_absolute_error(y_test, y_pred_test))\n",
    "print('Mean Squared Error:', metrics.mean_squared_error(y_test, y_pred_test))\n",
    "print('Root Mean Squared Error:', np.sqrt(metrics.mean_squared_error(y_test, y_pred_test)))\n",
    "\n",
    "# Function to calculate MAPE(Mean Absolute Percentage Error)\n",
    "def mean_absolute_percentage_error(y_true, y_pred): \n",
    "    return np.mean(np.abs((y_true - y_pred) / y_true)) * 100\n",
    "\n",
    "# Model evaluation metrics - Scikit learn model\n",
    "print('Mean Absolute percentage error:', mean_absolute_percentage_error(y_test, y_pred_test))"
   ]
  },
  {
   "cell_type": "markdown",
   "metadata": {},
   "source": [
    "#### By looking at the MAPE values for Train and Test data, we can say that predicted values of Train data are a bit more accurate when compared to predicted values of Test data. Hence there is no problem of Overfitting. Let's build a few more models to check whether we can get better models."
   ]
  },
  {
   "cell_type": "markdown",
   "metadata": {},
   "source": [
    "#### Step 6: Build Linear Regression model based on OLS"
   ]
  },
  {
   "cell_type": "markdown",
   "metadata": {},
   "source": [
    "#### In Scikit learn based Gradient Descent model, if parameter fit_intercept is set to True, algorithm will create a model with constant. But, in Stats based OLS model, we have to create a new attribute with some constant value other than 0 in X-train & X-test dataframes and then do the modelling so that algorithm creates model with constant. So, create a new attribute in X-train & X-test dataframes with a constant value other than 0. It is best practice to take constant value as 1.  'sm.add_constant()' creates new attribute with value as 1."
   ]
  },
  {
   "cell_type": "code",
   "execution_count": 25,
   "metadata": {},
   "outputs": [
    {
     "data": {
      "text/html": [
       "<div>\n",
       "<style scoped>\n",
       "    .dataframe tbody tr th:only-of-type {\n",
       "        vertical-align: middle;\n",
       "    }\n",
       "\n",
       "    .dataframe tbody tr th {\n",
       "        vertical-align: top;\n",
       "    }\n",
       "\n",
       "    .dataframe thead th {\n",
       "        text-align: right;\n",
       "    }\n",
       "</style>\n",
       "<table border=\"1\" class=\"dataframe\">\n",
       "  <thead>\n",
       "    <tr style=\"text-align: right;\">\n",
       "      <th></th>\n",
       "      <th>Petrol_tax</th>\n",
       "      <th>Average_income</th>\n",
       "      <th>Population_Driver_licence(%)</th>\n",
       "      <th>Paved_Highways</th>\n",
       "    </tr>\n",
       "  </thead>\n",
       "  <tbody>\n",
       "    <tr>\n",
       "      <th>0</th>\n",
       "      <td>9.0</td>\n",
       "      <td>3571</td>\n",
       "      <td>0.525</td>\n",
       "      <td>1976</td>\n",
       "    </tr>\n",
       "    <tr>\n",
       "      <th>41</th>\n",
       "      <td>7.0</td>\n",
       "      <td>3656</td>\n",
       "      <td>0.563</td>\n",
       "      <td>3985</td>\n",
       "    </tr>\n",
       "    <tr>\n",
       "      <th>4</th>\n",
       "      <td>8.0</td>\n",
       "      <td>4399</td>\n",
       "      <td>0.544</td>\n",
       "      <td>431</td>\n",
       "    </tr>\n",
       "    <tr>\n",
       "      <th>6</th>\n",
       "      <td>8.0</td>\n",
       "      <td>5319</td>\n",
       "      <td>0.451</td>\n",
       "      <td>11868</td>\n",
       "    </tr>\n",
       "    <tr>\n",
       "      <th>14</th>\n",
       "      <td>7.0</td>\n",
       "      <td>4332</td>\n",
       "      <td>0.608</td>\n",
       "      <td>8159</td>\n",
       "    </tr>\n",
       "    <tr>\n",
       "      <th>29</th>\n",
       "      <td>9.0</td>\n",
       "      <td>3601</td>\n",
       "      <td>0.493</td>\n",
       "      <td>4650</td>\n",
       "    </tr>\n",
       "    <tr>\n",
       "      <th>23</th>\n",
       "      <td>9.0</td>\n",
       "      <td>4258</td>\n",
       "      <td>0.517</td>\n",
       "      <td>4686</td>\n",
       "    </tr>\n",
       "    <tr>\n",
       "      <th>27</th>\n",
       "      <td>7.5</td>\n",
       "      <td>3846</td>\n",
       "      <td>0.579</td>\n",
       "      <td>9061</td>\n",
       "    </tr>\n",
       "    <tr>\n",
       "      <th>44</th>\n",
       "      <td>6.0</td>\n",
       "      <td>5215</td>\n",
       "      <td>0.672</td>\n",
       "      <td>2302</td>\n",
       "    </tr>\n",
       "    <tr>\n",
       "      <th>20</th>\n",
       "      <td>7.0</td>\n",
       "      <td>4593</td>\n",
       "      <td>0.663</td>\n",
       "      <td>7834</td>\n",
       "    </tr>\n",
       "  </tbody>\n",
       "</table>\n",
       "</div>"
      ],
      "text/plain": [
       "    Petrol_tax  Average_income  Population_Driver_licence(%)  Paved_Highways\n",
       "0          9.0            3571                         0.525            1976\n",
       "41         7.0            3656                         0.563            3985\n",
       "4          8.0            4399                         0.544             431\n",
       "6          8.0            5319                         0.451           11868\n",
       "14         7.0            4332                         0.608            8159\n",
       "29         9.0            3601                         0.493            4650\n",
       "23         9.0            4258                         0.517            4686\n",
       "27         7.5            3846                         0.579            9061\n",
       "44         6.0            5215                         0.672            2302\n",
       "20         7.0            4593                         0.663            7834"
      ]
     },
     "execution_count": 25,
     "metadata": {},
     "output_type": "execute_result"
    }
   ],
   "source": [
    "# X-test dataframe before constant as attribute\n",
    "X_test"
   ]
  },
  {
   "cell_type": "code",
   "execution_count": 26,
   "metadata": {},
   "outputs": [],
   "source": [
    "import statsmodels.api as sm"
   ]
  },
  {
   "cell_type": "code",
   "execution_count": 27,
   "metadata": {},
   "outputs": [],
   "source": [
    "# Creating constant as new attribute using 'sm.add_constant()'\n",
    "# X_endog represents X endogenous. Endogenous is a fancy term for anything that originates internally.\n",
    "X_endog_train = sm.add_constant(X_train)\n",
    "X_endog_test = sm.add_constant(X_test)"
   ]
  },
  {
   "cell_type": "code",
   "execution_count": 28,
   "metadata": {},
   "outputs": [
    {
     "data": {
      "text/html": [
       "<div>\n",
       "<style scoped>\n",
       "    .dataframe tbody tr th:only-of-type {\n",
       "        vertical-align: middle;\n",
       "    }\n",
       "\n",
       "    .dataframe tbody tr th {\n",
       "        vertical-align: top;\n",
       "    }\n",
       "\n",
       "    .dataframe thead th {\n",
       "        text-align: right;\n",
       "    }\n",
       "</style>\n",
       "<table border=\"1\" class=\"dataframe\">\n",
       "  <thead>\n",
       "    <tr style=\"text-align: right;\">\n",
       "      <th></th>\n",
       "      <th>const</th>\n",
       "      <th>Petrol_tax</th>\n",
       "      <th>Average_income</th>\n",
       "      <th>Population_Driver_licence(%)</th>\n",
       "      <th>Paved_Highways</th>\n",
       "    </tr>\n",
       "  </thead>\n",
       "  <tbody>\n",
       "    <tr>\n",
       "      <th>0</th>\n",
       "      <td>1.0</td>\n",
       "      <td>9.0</td>\n",
       "      <td>3571</td>\n",
       "      <td>0.525</td>\n",
       "      <td>1976</td>\n",
       "    </tr>\n",
       "    <tr>\n",
       "      <th>41</th>\n",
       "      <td>1.0</td>\n",
       "      <td>7.0</td>\n",
       "      <td>3656</td>\n",
       "      <td>0.563</td>\n",
       "      <td>3985</td>\n",
       "    </tr>\n",
       "    <tr>\n",
       "      <th>4</th>\n",
       "      <td>1.0</td>\n",
       "      <td>8.0</td>\n",
       "      <td>4399</td>\n",
       "      <td>0.544</td>\n",
       "      <td>431</td>\n",
       "    </tr>\n",
       "    <tr>\n",
       "      <th>6</th>\n",
       "      <td>1.0</td>\n",
       "      <td>8.0</td>\n",
       "      <td>5319</td>\n",
       "      <td>0.451</td>\n",
       "      <td>11868</td>\n",
       "    </tr>\n",
       "    <tr>\n",
       "      <th>14</th>\n",
       "      <td>1.0</td>\n",
       "      <td>7.0</td>\n",
       "      <td>4332</td>\n",
       "      <td>0.608</td>\n",
       "      <td>8159</td>\n",
       "    </tr>\n",
       "    <tr>\n",
       "      <th>29</th>\n",
       "      <td>1.0</td>\n",
       "      <td>9.0</td>\n",
       "      <td>3601</td>\n",
       "      <td>0.493</td>\n",
       "      <td>4650</td>\n",
       "    </tr>\n",
       "    <tr>\n",
       "      <th>23</th>\n",
       "      <td>1.0</td>\n",
       "      <td>9.0</td>\n",
       "      <td>4258</td>\n",
       "      <td>0.517</td>\n",
       "      <td>4686</td>\n",
       "    </tr>\n",
       "    <tr>\n",
       "      <th>27</th>\n",
       "      <td>1.0</td>\n",
       "      <td>7.5</td>\n",
       "      <td>3846</td>\n",
       "      <td>0.579</td>\n",
       "      <td>9061</td>\n",
       "    </tr>\n",
       "    <tr>\n",
       "      <th>44</th>\n",
       "      <td>1.0</td>\n",
       "      <td>6.0</td>\n",
       "      <td>5215</td>\n",
       "      <td>0.672</td>\n",
       "      <td>2302</td>\n",
       "    </tr>\n",
       "    <tr>\n",
       "      <th>20</th>\n",
       "      <td>1.0</td>\n",
       "      <td>7.0</td>\n",
       "      <td>4593</td>\n",
       "      <td>0.663</td>\n",
       "      <td>7834</td>\n",
       "    </tr>\n",
       "  </tbody>\n",
       "</table>\n",
       "</div>"
      ],
      "text/plain": [
       "    const  Petrol_tax  Average_income  Population_Driver_licence(%)  \\\n",
       "0     1.0         9.0            3571                         0.525   \n",
       "41    1.0         7.0            3656                         0.563   \n",
       "4     1.0         8.0            4399                         0.544   \n",
       "6     1.0         8.0            5319                         0.451   \n",
       "14    1.0         7.0            4332                         0.608   \n",
       "29    1.0         9.0            3601                         0.493   \n",
       "23    1.0         9.0            4258                         0.517   \n",
       "27    1.0         7.5            3846                         0.579   \n",
       "44    1.0         6.0            5215                         0.672   \n",
       "20    1.0         7.0            4593                         0.663   \n",
       "\n",
       "    Paved_Highways  \n",
       "0             1976  \n",
       "41            3985  \n",
       "4              431  \n",
       "6            11868  \n",
       "14            8159  \n",
       "29            4650  \n",
       "23            4686  \n",
       "27            9061  \n",
       "44            2302  \n",
       "20            7834  "
      ]
     },
     "execution_count": 28,
     "metadata": {},
     "output_type": "execute_result"
    }
   ],
   "source": [
    "# X-test dataframe after adding constant as attribute\n",
    "X_endog_test"
   ]
  },
  {
   "cell_type": "code",
   "execution_count": 29,
   "metadata": {},
   "outputs": [
    {
     "data": {
      "text/plain": [
       "<statsmodels.regression.linear_model.OLS at 0x7f7ee88c1400>"
      ]
     },
     "execution_count": 29,
     "metadata": {},
     "output_type": "execute_result"
    }
   ],
   "source": [
    "res = sm.OLS(y_train, X_endog_train)\n",
    "res"
   ]
  },
  {
   "cell_type": "code",
   "execution_count": 30,
   "metadata": {
    "scrolled": false
   },
   "outputs": [
    {
     "data": {
      "text/html": [
       "<table class=\"simpletable\">\n",
       "<caption>OLS Regression Results</caption>\n",
       "<tr>\n",
       "  <th>Dep. Variable:</th>    <td>Petrol_Consumption</td> <th>  R-squared:         </th> <td>   0.672</td>\n",
       "</tr>\n",
       "<tr>\n",
       "  <th>Model:</th>                    <td>OLS</td>        <th>  Adj. R-squared:    </th> <td>   0.633</td>\n",
       "</tr>\n",
       "<tr>\n",
       "  <th>Method:</th>              <td>Least Squares</td>   <th>  F-statistic:       </th> <td>   16.94</td>\n",
       "</tr>\n",
       "<tr>\n",
       "  <th>Date:</th>              <td>Sun, 07 Nov 2021</td>  <th>  Prob (F-statistic):</th> <td>1.22e-07</td>\n",
       "</tr>\n",
       "<tr>\n",
       "  <th>Time:</th>                  <td>23:43:31</td>      <th>  Log-Likelihood:    </th> <td> -210.36</td>\n",
       "</tr>\n",
       "<tr>\n",
       "  <th>No. Observations:</th>       <td>    38</td>       <th>  AIC:               </th> <td>   430.7</td>\n",
       "</tr>\n",
       "<tr>\n",
       "  <th>Df Residuals:</th>           <td>    33</td>       <th>  BIC:               </th> <td>   438.9</td>\n",
       "</tr>\n",
       "<tr>\n",
       "  <th>Df Model:</th>               <td>     4</td>       <th>                     </th>     <td> </td>   \n",
       "</tr>\n",
       "<tr>\n",
       "  <th>Covariance Type:</th>       <td>nonrobust</td>     <th>                     </th>     <td> </td>   \n",
       "</tr>\n",
       "</table>\n",
       "<table class=\"simpletable\">\n",
       "<tr>\n",
       "                <td></td>                  <th>coef</th>     <th>std err</th>      <th>t</th>      <th>P>|t|</th>  <th>[0.025</th>    <th>0.975]</th>  \n",
       "</tr>\n",
       "<tr>\n",
       "  <th>const</th>                        <td>  353.4973</td> <td>  196.097</td> <td>    1.803</td> <td> 0.081</td> <td>  -45.465</td> <td>  752.460</td>\n",
       "</tr>\n",
       "<tr>\n",
       "  <th>Petrol_tax</th>                   <td>  -40.2146</td> <td>   15.405</td> <td>   -2.611</td> <td> 0.013</td> <td>  -71.556</td> <td>   -8.873</td>\n",
       "</tr>\n",
       "<tr>\n",
       "  <th>Average_income</th>               <td>   -0.0628</td> <td>    0.020</td> <td>   -3.172</td> <td> 0.003</td> <td>   -0.103</td> <td>   -0.023</td>\n",
       "</tr>\n",
       "<tr>\n",
       "  <th>Population_Driver_licence(%)</th> <td> 1426.6212</td> <td>  216.537</td> <td>    6.588</td> <td> 0.000</td> <td>  986.074</td> <td> 1867.169</td>\n",
       "</tr>\n",
       "<tr>\n",
       "  <th>Paved_Highways</th>               <td>   -0.0034</td> <td>    0.004</td> <td>   -0.828</td> <td> 0.414</td> <td>   -0.012</td> <td>    0.005</td>\n",
       "</tr>\n",
       "</table>\n",
       "<table class=\"simpletable\">\n",
       "<tr>\n",
       "  <th>Omnibus:</th>       <td>17.059</td> <th>  Durbin-Watson:     </th> <td>   2.041</td>\n",
       "</tr>\n",
       "<tr>\n",
       "  <th>Prob(Omnibus):</th> <td> 0.000</td> <th>  Jarque-Bera (JB):  </th> <td>  22.210</td>\n",
       "</tr>\n",
       "<tr>\n",
       "  <th>Skew:</th>          <td> 1.321</td> <th>  Prob(JB):          </th> <td>1.50e-05</td>\n",
       "</tr>\n",
       "<tr>\n",
       "  <th>Kurtosis:</th>      <td> 5.654</td> <th>  Cond. No.          </th> <td>1.91e+05</td>\n",
       "</tr>\n",
       "</table><br/><br/>Notes:<br/>[1] Standard Errors assume that the covariance matrix of the errors is correctly specified.<br/>[2] The condition number is large, 1.91e+05. This might indicate that there are<br/>strong multicollinearity or other numerical problems."
      ],
      "text/plain": [
       "<class 'statsmodels.iolib.summary.Summary'>\n",
       "\"\"\"\n",
       "                            OLS Regression Results                            \n",
       "==============================================================================\n",
       "Dep. Variable:     Petrol_Consumption   R-squared:                       0.672\n",
       "Model:                            OLS   Adj. R-squared:                  0.633\n",
       "Method:                 Least Squares   F-statistic:                     16.94\n",
       "Date:                Sun, 07 Nov 2021   Prob (F-statistic):           1.22e-07\n",
       "Time:                        23:43:31   Log-Likelihood:                -210.36\n",
       "No. Observations:                  38   AIC:                             430.7\n",
       "Df Residuals:                      33   BIC:                             438.9\n",
       "Df Model:                           4                                         \n",
       "Covariance Type:            nonrobust                                         \n",
       "================================================================================================\n",
       "                                   coef    std err          t      P>|t|      [0.025      0.975]\n",
       "------------------------------------------------------------------------------------------------\n",
       "const                          353.4973    196.097      1.803      0.081     -45.465     752.460\n",
       "Petrol_tax                     -40.2146     15.405     -2.611      0.013     -71.556      -8.873\n",
       "Average_income                  -0.0628      0.020     -3.172      0.003      -0.103      -0.023\n",
       "Population_Driver_licence(%)  1426.6212    216.537      6.588      0.000     986.074    1867.169\n",
       "Paved_Highways                  -0.0034      0.004     -0.828      0.414      -0.012       0.005\n",
       "==============================================================================\n",
       "Omnibus:                       17.059   Durbin-Watson:                   2.041\n",
       "Prob(Omnibus):                  0.000   Jarque-Bera (JB):               22.210\n",
       "Skew:                           1.321   Prob(JB):                     1.50e-05\n",
       "Kurtosis:                       5.654   Cond. No.                     1.91e+05\n",
       "==============================================================================\n",
       "\n",
       "Notes:\n",
       "[1] Standard Errors assume that the covariance matrix of the errors is correctly specified.\n",
       "[2] The condition number is large, 1.91e+05. This might indicate that there are\n",
       "strong multicollinearity or other numerical problems.\n",
       "\"\"\""
      ]
     },
     "execution_count": 30,
     "metadata": {},
     "output_type": "execute_result"
    }
   ],
   "source": [
    "res.fit().summary()"
   ]
  },
  {
   "cell_type": "markdown",
   "metadata": {},
   "source": [
    "#### Step 7: Analyse the summary of the model built. Summary has three blocks initial, middle and final. Let's analyse it one by one. "
   ]
  },
  {
   "cell_type": "markdown",
   "metadata": {},
   "source": [
    "#### Step 7(continuation): Let's analyse middle block first. By analysing middle block, we can get to know below info.\n",
    "    a. The attributes in middle block are Co-efficients, standard error of co-efficients, t-score, P-value(proba-bility) for corresponding t-score, Lower confidence Interval and Upper confidence Interval.\n",
    "    \n",
    "    b. Here there is possibility of conducting Z-test and fetching z-score. But we didn't do that because to    conduct a Z-test, residuals must be closer to be Normal. Though in this case residuals are closer to Normal, in a few other cases it may not. Hence, it is better to conduct t-Test. t-Test doesn't have any such rule.\n",
    "    \n",
    "    c. P-value(probability) is calculated based on the Null hypothesis that the corresponding attribute's       co-efficient(β) is zero. So, if the P-value is greater than 0.1, it is better to re-check whether the corres-ponding attribute is significant in model building. If it is insignificant, we may remove the attribute    while building the model. Because P-value greater than 0.1 implies that the test has to be run on a confiden-ce interval which is less than 90%. Confidence interval of 90% is the bench mark as per industry standards.\n",
    "    \n",
    "    d. To get to know whether an attribute is significant in model building, we may use our Industry experience sometimes. But a statistical way of getting it is to build two models one with the attribute and another    without. If the model with the attribute has significant higher accuracy when compared to the accuracy of   model without the attribute, we consider the attribute as significant."
   ]
  },
  {
   "cell_type": "markdown",
   "metadata": {},
   "source": [
    "##### Based on the P-values in the below summary we can get to know below things. \n",
    "    a. If we conduct a test at 95% Confidence Interval, 'Petrol_tax', 'Average_income' and 'Population_Driver_li-cence(%)' are the significant attributes because the P-value of each of them is less than 0.05.\n",
    "    b. If we conduct a test at 90% Confidence Interval, 'const', 'Petrol_tax', 'Average_income' and 'Population_Driver_licence(%)' are the significant attributes\n",
    "    c. To accept 'Paved_Highways' as significant attribute we have to conduct a test at 68% confidence Interval. So, it is better to check whether 'Paved_Highways' is significant in model building. But, unfortunately sometimes we may need to consider these kind of attributes in Model building. For example, in a Marketing model a firm is spending money heavily across 5 channels. If any channel gives a P-value of 0.3, we may not remove that channel while building the model."
   ]
  },
  {
   "cell_type": "markdown",
   "metadata": {},
   "source": [
    "#### Step 7(continuation): Let's analyse initial block next. By analysing initial block, we can get to know below info.\n",
    "    a. P-value for F-statistic is calculated based on the Null hypothesis that the co-efficients(β) of all the attributes are zero. If the P-value for F-statistic is less than 0.1, the model we have built is a good one. This is again based on the Confidence Interval.\n",
    "    b. Check the values of 'R-squared' and 'Adj. R-squared' in \"Statistics class 26 & 27\" file."
   ]
  },
  {
   "cell_type": "markdown",
   "metadata": {},
   "source": [
    "##### Based on the values in the initial block we can get to know below things.\n",
    "    a. Since the P-value for F-statistic is close to 10 to the power of (-7), our model is a good one.\n",
    "    b. Since the number of attributes in data set are very few, let us check R-squared. Since R-squared value is 0.666, our model is an average one but it can be better."
   ]
  },
  {
   "cell_type": "markdown",
   "metadata": {},
   "source": [
    "#### Step 7(continuation): Let's analyse final block now. Final block is all about tests running on Residuals. By analysing final block, we can get to know below info.\n",
    "    a. Skewness and Kurtosis will tell how the residual values are distributed. A perfect Normal distribution   will have Skewness as 0 and Kurtosis as 3.\n",
    "    b. Omnibus and Jarque-Bera(JB) test confirm the same idea of Skewness and Kurtosis. For a perfect Normal dis-tribution, Omnibus & Jarque-Bera(JB) values should be close to zero and Prob(Omnibus) & Prob(JB) should be close to one.\n",
    "    c. Durbin-Watson test confirm whether there is Auto-correlation among residuals. A value between 0 and 4    will confirm that the residuals are not Auto-correlated.\n",
    "    d. 'Cond. No' will tell whether there is Multi-collinearity. 'Cond. No' should be less than 30. Higher the  'Cond. No', greater the Multi-collinearity."
   ]
  },
  {
   "cell_type": "markdown",
   "metadata": {},
   "source": [
    "##### Based on the values in the initial block we can get to know below things.\n",
    "    a. Based on Skew and Kurtosis values, we can say that there is significant deviation from Normalcy.\n",
    "    b. Based on Omnibus, Prob(Omnibus), Jarque-Bera(JB) and Prob(JB) we can say that the distribution of residua-ls is not close to Normal distribution.\n",
    "    c. Based on value of Durbin-Watson test, we can say that there is no Auto-correlation between residuals.\n",
    "    d. Based on value of 'Cond. No', we can say that there is Multi-collinearity among attributes."
   ]
  },
  {
   "cell_type": "markdown",
   "metadata": {},
   "source": [
    "##### After a detailed analysis of the bottom block, we can conclude that many of the assumptions of OLS are not being met. So, we cannot rely on the estimated co-efficient values. In this case we have two options.\n",
    "    a. Stick to the Scikit-Learn version of the Co-efficients. Although the estimated co-efficients are similar, the estimation technique is different and there are no assumptions to be met.\n",
    "    b. Estimate using Non-linear approach. There may be Non-linear approaches which would be more accurate."
   ]
  },
  {
   "cell_type": "markdown",
   "metadata": {},
   "source": [
    "##### But, let's complete usual steps of validation for OLS based Linear Regression model before building other models"
   ]
  },
  {
   "cell_type": "markdown",
   "metadata": {},
   "source": [
    "#### Step 8: Calculate Predicted values for train data based on the approximate co-efficients produced by the model"
   ]
  },
  {
   "cell_type": "code",
   "execution_count": 43,
   "metadata": {
    "scrolled": false
   },
   "outputs": [
    {
     "data": {
      "text/plain": [
       "24    501.753181\n",
       "45    511.888612\n",
       "15    602.151798\n",
       "36    646.197897\n",
       "17    593.056516\n",
       "40    670.136611\n",
       "5     426.061055\n",
       "3     492.896841\n",
       "7     491.669977\n",
       "33    607.630443\n",
       "12    565.152587\n",
       "8     478.440643\n",
       "42    650.051409\n",
       "47    571.024641\n",
       "1     546.466210\n",
       "28    551.945983\n",
       "30    559.247405\n",
       "22    404.871350\n",
       "43    552.808633\n",
       "31    572.434667\n",
       "21    575.711348\n",
       "19    684.749370\n",
       "32    642.138307\n",
       "39    744.756088\n",
       "11    431.372058\n",
       "9     547.621393\n",
       "46    677.330504\n",
       "13    563.256719\n",
       "37    641.867368\n",
       "2     571.003728\n",
       "26    578.944230\n",
       "35    721.201033\n",
       "25    518.074883\n",
       "34    493.291334\n",
       "38    718.293196\n",
       "16    595.363632\n",
       "10    492.242385\n",
       "18    788.895966\n",
       "dtype: float64"
      ]
     },
     "execution_count": 43,
     "metadata": {},
     "output_type": "execute_result"
    }
   ],
   "source": [
    "# Calculating Predicted values for train data\n",
    "y_pred_endog_train = res.fit().predict(X_endog_train)\n",
    "y_pred_endog_train"
   ]
  },
  {
   "cell_type": "code",
   "execution_count": 44,
   "metadata": {
    "scrolled": false
   },
   "outputs": [
    {
     "data": {
      "text/html": [
       "<div>\n",
       "<style scoped>\n",
       "    .dataframe tbody tr th:only-of-type {\n",
       "        vertical-align: middle;\n",
       "    }\n",
       "\n",
       "    .dataframe tbody tr th {\n",
       "        vertical-align: top;\n",
       "    }\n",
       "\n",
       "    .dataframe thead th {\n",
       "        text-align: right;\n",
       "    }\n",
       "</style>\n",
       "<table border=\"1\" class=\"dataframe\">\n",
       "  <thead>\n",
       "    <tr style=\"text-align: right;\">\n",
       "      <th></th>\n",
       "      <th>Actual</th>\n",
       "      <th>Predicted</th>\n",
       "    </tr>\n",
       "  </thead>\n",
       "  <tbody>\n",
       "    <tr>\n",
       "      <th>24</th>\n",
       "      <td>460</td>\n",
       "      <td>501.753181</td>\n",
       "    </tr>\n",
       "    <tr>\n",
       "      <th>45</th>\n",
       "      <td>510</td>\n",
       "      <td>511.888612</td>\n",
       "    </tr>\n",
       "    <tr>\n",
       "      <th>15</th>\n",
       "      <td>635</td>\n",
       "      <td>602.151798</td>\n",
       "    </tr>\n",
       "    <tr>\n",
       "      <th>36</th>\n",
       "      <td>640</td>\n",
       "      <td>646.197897</td>\n",
       "    </tr>\n",
       "    <tr>\n",
       "      <th>17</th>\n",
       "      <td>714</td>\n",
       "      <td>593.056516</td>\n",
       "    </tr>\n",
       "    <tr>\n",
       "      <th>40</th>\n",
       "      <td>587</td>\n",
       "      <td>670.136611</td>\n",
       "    </tr>\n",
       "    <tr>\n",
       "      <th>5</th>\n",
       "      <td>457</td>\n",
       "      <td>426.061055</td>\n",
       "    </tr>\n",
       "    <tr>\n",
       "      <th>3</th>\n",
       "      <td>414</td>\n",
       "      <td>492.896841</td>\n",
       "    </tr>\n",
       "    <tr>\n",
       "      <th>7</th>\n",
       "      <td>467</td>\n",
       "      <td>491.669977</td>\n",
       "    </tr>\n",
       "    <tr>\n",
       "      <th>33</th>\n",
       "      <td>628</td>\n",
       "      <td>607.630443</td>\n",
       "    </tr>\n",
       "    <tr>\n",
       "      <th>12</th>\n",
       "      <td>525</td>\n",
       "      <td>565.152587</td>\n",
       "    </tr>\n",
       "    <tr>\n",
       "      <th>8</th>\n",
       "      <td>464</td>\n",
       "      <td>478.440643</td>\n",
       "    </tr>\n",
       "    <tr>\n",
       "      <th>42</th>\n",
       "      <td>632</td>\n",
       "      <td>650.051409</td>\n",
       "    </tr>\n",
       "    <tr>\n",
       "      <th>47</th>\n",
       "      <td>524</td>\n",
       "      <td>571.024641</td>\n",
       "    </tr>\n",
       "    <tr>\n",
       "      <th>1</th>\n",
       "      <td>524</td>\n",
       "      <td>546.466210</td>\n",
       "    </tr>\n",
       "    <tr>\n",
       "      <th>28</th>\n",
       "      <td>574</td>\n",
       "      <td>551.945983</td>\n",
       "    </tr>\n",
       "    <tr>\n",
       "      <th>30</th>\n",
       "      <td>571</td>\n",
       "      <td>559.247405</td>\n",
       "    </tr>\n",
       "    <tr>\n",
       "      <th>22</th>\n",
       "      <td>464</td>\n",
       "      <td>404.871350</td>\n",
       "    </tr>\n",
       "    <tr>\n",
       "      <th>43</th>\n",
       "      <td>591</td>\n",
       "      <td>552.808633</td>\n",
       "    </tr>\n",
       "    <tr>\n",
       "      <th>31</th>\n",
       "      <td>554</td>\n",
       "      <td>572.434667</td>\n",
       "    </tr>\n",
       "    <tr>\n",
       "      <th>21</th>\n",
       "      <td>540</td>\n",
       "      <td>575.711348</td>\n",
       "    </tr>\n",
       "    <tr>\n",
       "      <th>19</th>\n",
       "      <td>640</td>\n",
       "      <td>684.749370</td>\n",
       "    </tr>\n",
       "    <tr>\n",
       "      <th>32</th>\n",
       "      <td>577</td>\n",
       "      <td>642.138307</td>\n",
       "    </tr>\n",
       "    <tr>\n",
       "      <th>39</th>\n",
       "      <td>968</td>\n",
       "      <td>744.756088</td>\n",
       "    </tr>\n",
       "    <tr>\n",
       "      <th>11</th>\n",
       "      <td>471</td>\n",
       "      <td>431.372058</td>\n",
       "    </tr>\n",
       "    <tr>\n",
       "      <th>9</th>\n",
       "      <td>498</td>\n",
       "      <td>547.621393</td>\n",
       "    </tr>\n",
       "    <tr>\n",
       "      <th>46</th>\n",
       "      <td>610</td>\n",
       "      <td>677.330504</td>\n",
       "    </tr>\n",
       "    <tr>\n",
       "      <th>13</th>\n",
       "      <td>508</td>\n",
       "      <td>563.256719</td>\n",
       "    </tr>\n",
       "    <tr>\n",
       "      <th>37</th>\n",
       "      <td>704</td>\n",
       "      <td>641.867368</td>\n",
       "    </tr>\n",
       "    <tr>\n",
       "      <th>2</th>\n",
       "      <td>561</td>\n",
       "      <td>571.003728</td>\n",
       "    </tr>\n",
       "    <tr>\n",
       "      <th>26</th>\n",
       "      <td>577</td>\n",
       "      <td>578.944230</td>\n",
       "    </tr>\n",
       "    <tr>\n",
       "      <th>35</th>\n",
       "      <td>644</td>\n",
       "      <td>721.201033</td>\n",
       "    </tr>\n",
       "    <tr>\n",
       "      <th>25</th>\n",
       "      <td>566</td>\n",
       "      <td>518.074883</td>\n",
       "    </tr>\n",
       "    <tr>\n",
       "      <th>34</th>\n",
       "      <td>487</td>\n",
       "      <td>493.291334</td>\n",
       "    </tr>\n",
       "    <tr>\n",
       "      <th>38</th>\n",
       "      <td>648</td>\n",
       "      <td>718.293196</td>\n",
       "    </tr>\n",
       "    <tr>\n",
       "      <th>16</th>\n",
       "      <td>603</td>\n",
       "      <td>595.363632</td>\n",
       "    </tr>\n",
       "    <tr>\n",
       "      <th>10</th>\n",
       "      <td>580</td>\n",
       "      <td>492.242385</td>\n",
       "    </tr>\n",
       "    <tr>\n",
       "      <th>18</th>\n",
       "      <td>865</td>\n",
       "      <td>788.895966</td>\n",
       "    </tr>\n",
       "  </tbody>\n",
       "</table>\n",
       "</div>"
      ],
      "text/plain": [
       "    Actual   Predicted\n",
       "24     460  501.753181\n",
       "45     510  511.888612\n",
       "15     635  602.151798\n",
       "36     640  646.197897\n",
       "17     714  593.056516\n",
       "40     587  670.136611\n",
       "5      457  426.061055\n",
       "3      414  492.896841\n",
       "7      467  491.669977\n",
       "33     628  607.630443\n",
       "12     525  565.152587\n",
       "8      464  478.440643\n",
       "42     632  650.051409\n",
       "47     524  571.024641\n",
       "1      524  546.466210\n",
       "28     574  551.945983\n",
       "30     571  559.247405\n",
       "22     464  404.871350\n",
       "43     591  552.808633\n",
       "31     554  572.434667\n",
       "21     540  575.711348\n",
       "19     640  684.749370\n",
       "32     577  642.138307\n",
       "39     968  744.756088\n",
       "11     471  431.372058\n",
       "9      498  547.621393\n",
       "46     610  677.330504\n",
       "13     508  563.256719\n",
       "37     704  641.867368\n",
       "2      561  571.003728\n",
       "26     577  578.944230\n",
       "35     644  721.201033\n",
       "25     566  518.074883\n",
       "34     487  493.291334\n",
       "38     648  718.293196\n",
       "16     603  595.363632\n",
       "10     580  492.242385\n",
       "18     865  788.895966"
      ]
     },
     "execution_count": 44,
     "metadata": {},
     "output_type": "execute_result"
    }
   ],
   "source": [
    "# Getting a sense of Actual and Predicted values for the train data\n",
    "df = pd.DataFrame({'Actual': y_train, 'Predicted': y_pred_endog_train})\n",
    "df"
   ]
  },
  {
   "cell_type": "markdown",
   "metadata": {},
   "source": [
    "#### Step 9: Perform below tasks to check whether model prediction is right.\n",
    "    a. Plot a scatter plot for Fitted values(actual values) vs Residuals(errors) to get a sense of residual     distribution\n",
    "    b. Calculate mean of residuals to check whether the model prediction is right. Model prediction is right    when the mean of residuals for train data is close to zero.\n",
    "    c. Check whether Residuals are distributed normally using 'distplot()' and 'probplot()'"
   ]
  },
  {
   "cell_type": "code",
   "execution_count": 45,
   "metadata": {},
   "outputs": [
    {
     "data": {
      "text/plain": [
       "Text(0, 0.5, 'Residuals')"
      ]
     },
     "execution_count": 45,
     "metadata": {},
     "output_type": "execute_result"
    },
    {
     "data": {
      "image/png": "[encoded data removed]",
      "text/plain": [
       "<Figure size 432x288 with 1 Axes>"
      ]
     },
     "metadata": {
      "needs_background": "light"
     },
     "output_type": "display_data"
    }
   ],
   "source": [
    "# Plotting scatter plot of residuals\n",
    "plt.scatter(y_pred_endog_train, (y_train-y_pred_endog_train))\n",
    "plt.xlabel(\"Fitted values\")\n",
    "plt.ylabel(\"Residuals\")"
   ]
  },
  {
   "cell_type": "markdown",
   "metadata": {},
   "source": [
    "##### By looking at the plot above we can say that apart from two residuals all of them are closer to zero."
   ]
  },
  {
   "cell_type": "code",
   "execution_count": 46,
   "metadata": {},
   "outputs": [
    {
     "data": {
      "text/plain": [
       "6.012238660141042e-11"
      ]
     },
     "execution_count": 46,
     "metadata": {},
     "output_type": "execute_result"
    }
   ],
   "source": [
    "# Calculating Mean of residuals to check whether the model prediction is right\n",
    "(y_train-y_pred_endog_train).mean()"
   ]
  },
  {
   "cell_type": "markdown",
   "metadata": {},
   "source": [
    "##### Since the Mean of residuals for train data is a number which is 10 to the power of (-11), it is negligibe. Hence, we can conclude that the model prediction is right."
   ]
  },
  {
   "cell_type": "code",
   "execution_count": 47,
   "metadata": {},
   "outputs": [
    {
     "name": "stderr",
     "output_type": "stream",
     "text": [
      "/Users/Surya/opt/anaconda3/lib/python3.8/site-packages/seaborn/distributions.py:2551: FutureWarning: `distplot` is a deprecated function and will be removed in a future version. Please adapt your code to use either `displot` (a figure-level function with similar flexibility) or `histplot` (an axes-level function for histograms).\n",
      "  warnings.warn(msg, FutureWarning)\n"
     ]
    },
    {
     "data": {
      "text/plain": [
       "Text(0.5, 0, 'Residuals')"
      ]
     },
     "execution_count": 47,
     "metadata": {},
     "output_type": "execute_result"
    },
    {
     "data": {
      "image/png": "[encoded data removed]",
      "text/plain": [
       "<Figure size 432x288 with 1 Axes>"
      ]
     },
     "metadata": {
      "needs_background": "light"
     },
     "output_type": "display_data"
    }
   ],
   "source": [
    "sns.distplot(y_train-y_pred_endog_train , fit=norm);\n",
    "plt.xlabel('Residuals')"
   ]
  },
  {
   "cell_type": "code",
   "execution_count": 48,
   "metadata": {},
   "outputs": [
    {
     "data": {
      "image/png": "[encoded data removed]",
      "text/plain": [
       "<Figure size 432x288 with 1 Axes>"
      ]
     },
     "metadata": {
      "needs_background": "light"
     },
     "output_type": "display_data"
    }
   ],
   "source": [
    "from scipy import stats\n",
    "stats.probplot(y_train-y_pred_endog_train, plot=plt)\n",
    "plt.show()"
   ]
  },
  {
   "cell_type": "markdown",
   "metadata": {},
   "source": [
    "##### Based on the 'distplot()' and 'probplot()' below, we can say that Residuals are approximately normally distributed. Red line in 'probplot()' is the line of normalcy. If most of the points in 'probplot()' are aligned with the line, we can say that Residuals are approximately normally distributed."
   ]
  },
  {
   "cell_type": "markdown",
   "metadata": {},
   "source": [
    "#### Step 10: Let's try building other models by altering the input parameters."
   ]
  },
  {
   "cell_type": "markdown",
   "metadata": {},
   "source": [
    "##### Based on heatmap plotted above, we got to know that 'Petrol_tax' and 'Paved_Highways' have Intermediate Correlation between them. Let's remove 'Paved_Highways' and build both the Linear Regression models again."
   ]
  },
  {
   "cell_type": "markdown",
   "metadata": {},
   "source": [
    "#### Let's start with Scikit learn model"
   ]
  },
  {
   "cell_type": "code",
   "execution_count": 53,
   "metadata": {},
   "outputs": [],
   "source": [
    "# Removing 'Paved_Highways' from Train data and Test data\n",
    "X_train_1 = X_train.drop('Paved_Highways', axis=1)\n",
    "X_test_1 = X_test.drop('Paved_Highways', axis=1)"
   ]
  },
  {
   "cell_type": "code",
   "execution_count": 54,
   "metadata": {},
   "outputs": [
    {
     "data": {
      "text/plain": [
       "LinearRegression()"
      ]
     },
     "execution_count": 54,
     "metadata": {},
     "output_type": "execute_result"
    }
   ],
   "source": [
    "# 'fit_intercept=True' is to enable constant \n",
    "regressor = LinearRegression(fit_intercept=True)\n",
    "\n",
    "# Passing Dataset with Independent variables and Dataset with Dependent variable as X and Y\n",
    "# This will create an equation with best fit line following OLS model\n",
    "regressor.fit(X_train_1, y_train)"
   ]
  },
  {
   "cell_type": "code",
   "execution_count": 56,
   "metadata": {},
   "outputs": [
    {
     "data": {
      "text/html": [
       "<div>\n",
       "<style scoped>\n",
       "    .dataframe tbody tr th:only-of-type {\n",
       "        vertical-align: middle;\n",
       "    }\n",
       "\n",
       "    .dataframe tbody tr th {\n",
       "        vertical-align: top;\n",
       "    }\n",
       "\n",
       "    .dataframe thead th {\n",
       "        text-align: right;\n",
       "    }\n",
       "</style>\n",
       "<table border=\"1\" class=\"dataframe\">\n",
       "  <thead>\n",
       "    <tr style=\"text-align: right;\">\n",
       "      <th></th>\n",
       "      <th>Coefficient</th>\n",
       "    </tr>\n",
       "  </thead>\n",
       "  <tbody>\n",
       "    <tr>\n",
       "      <th>Petrol_tax</th>\n",
       "      <td>-31.952461</td>\n",
       "    </tr>\n",
       "    <tr>\n",
       "      <th>Average_income</th>\n",
       "      <td>-0.064837</td>\n",
       "    </tr>\n",
       "    <tr>\n",
       "      <th>Population_Driver_licence(%)</th>\n",
       "      <td>1453.791163</td>\n",
       "    </tr>\n",
       "  </tbody>\n",
       "</table>\n",
       "</div>"
      ],
      "text/plain": [
       "                              Coefficient\n",
       "Petrol_tax                     -31.952461\n",
       "Average_income                  -0.064837\n",
       "Population_Driver_licence(%)  1453.791163"
      ]
     },
     "execution_count": 56,
     "metadata": {},
     "output_type": "execute_result"
    }
   ],
   "source": [
    "# Fetching co-efficient value for each Independent variable\n",
    "coeff_df = pd.DataFrame(regressor.coef_, X_train_1.columns, columns=['Coefficient'])\n",
    "coeff_df"
   ]
  },
  {
   "cell_type": "code",
   "execution_count": 57,
   "metadata": {},
   "outputs": [
    {
     "data": {
      "text/plain": [
       "264.6773040332906"
      ]
     },
     "execution_count": 57,
     "metadata": {},
     "output_type": "execute_result"
    }
   ],
   "source": [
    "#Fetching Constant value\n",
    "regressor.intercept_"
   ]
  },
  {
   "cell_type": "code",
   "execution_count": 58,
   "metadata": {},
   "outputs": [
    {
     "data": {
      "text/plain": [
       "array([497.55632583, 517.00993503, 612.96595492, 665.49552787,\n",
       "       584.99370278, 662.62396724, 428.90871674, 478.33365813,\n",
       "       480.65016859, 602.60013215, 563.16684675, 489.7834373 ,\n",
       "       638.84746893, 578.79405192, 543.36109665, 556.00509452,\n",
       "       558.06757557, 402.48612942, 536.72178921, 570.70354874,\n",
       "       561.15761259, 695.84101056, 650.75347698, 736.24139856,\n",
       "       455.9202465 , 550.95869635, 668.18263979, 560.55741339,\n",
       "       640.26229076, 569.70940276, 582.17753474, 722.35485007,\n",
       "       526.70943482, 488.30932163, 721.26278726, 599.87461169,\n",
       "       494.86809499, 787.78404829])"
      ]
     },
     "execution_count": 58,
     "metadata": {},
     "output_type": "execute_result"
    }
   ],
   "source": [
    "# Calculating Predicted values for train data\n",
    "y_pred = regressor.predict(X_train_1)\n",
    "y_pred"
   ]
  },
  {
   "cell_type": "code",
   "execution_count": 61,
   "metadata": {},
   "outputs": [
    {
     "name": "stdout",
     "output_type": "stream",
     "text": [
      "Mean Absolute Error: 45.610041004648465\n",
      "Mean Squared Error: 3844.6316774011175\n",
      "Root Mean Squared Error: 62.005093963327866\n",
      "Mean Absolute percentage error: 7.497718961673179\n"
     ]
    }
   ],
   "source": [
    "# Model evaluation metrics(Train data) - Scikit learn model\n",
    "\n",
    "y_pred = regressor.predict(X_train_1)\n",
    "\n",
    "from sklearn import metrics\n",
    "print('Mean Absolute Error:', metrics.mean_absolute_error(y_train, y_pred))\n",
    "print('Mean Squared Error:', metrics.mean_squared_error(y_train, y_pred))\n",
    "print('Root Mean Squared Error:', np.sqrt(metrics.mean_squared_error(y_train, y_pred)))\n",
    "\n",
    "# Function to calculate MAPE(Mean Absolute Percentage Error)\n",
    "def mean_absolute_percentage_error(y_true, y_pred): \n",
    "    return np.mean(np.abs((y_true - y_pred) / y_true)) * 100\n",
    "\n",
    "# Model evaluation metrics - Scikit learn model\n",
    "print('Mean Absolute percentage error:', mean_absolute_percentage_error(y_train, y_pred))"
   ]
  },
  {
   "cell_type": "code",
   "execution_count": 63,
   "metadata": {},
   "outputs": [
    {
     "name": "stdout",
     "output_type": "stream",
     "text": [
      "Mean Absolute Error: 62.55200434469358\n",
      "Mean Squared Error: 4734.841302969784\n",
      "Root Mean Squared Error: 68.81018313425552\n",
      "Mean Absolute percentage error: 11.437027978173749\n"
     ]
    }
   ],
   "source": [
    "# Model evaluation metrics(Test data) - Scikit learn model\n",
    "\n",
    "y_pred_test = regressor.predict(X_test_1)\n",
    "\n",
    "print('Mean Absolute Error:', metrics.mean_absolute_error(y_test, y_pred_test))\n",
    "print('Mean Squared Error:', metrics.mean_squared_error(y_test, y_pred_test))\n",
    "print('Root Mean Squared Error:', np.sqrt(metrics.mean_squared_error(y_test, y_pred_test)))\n",
    "\n",
    "# Function to calculate MAPE(Mean Absolute Percentage Error)\n",
    "def mean_absolute_percentage_error(y_true, y_pred): \n",
    "    return np.mean(np.abs((y_true - y_pred) / y_true)) * 100\n",
    "\n",
    "# Model evaluation metrics - Scikit learn model\n",
    "print('Mean Absolute percentage error:', mean_absolute_percentage_error(y_test, y_pred_test))"
   ]
  },
  {
   "cell_type": "markdown",
   "metadata": {},
   "source": [
    "##### By comparing the model evaluation metrics of both the Scikit learn models we have built, we can say that there's no significant difference interms of results."
   ]
  },
  {
   "cell_type": "markdown",
   "metadata": {},
   "source": [
    "#### Let's built OLS based Regression model and see whether we get better results."
   ]
  },
  {
   "cell_type": "code",
   "execution_count": 64,
   "metadata": {},
   "outputs": [],
   "source": [
    "# Removing 'Paved_Highways' from Train data and Test data\n",
    "X_endog_train_1 = X_endog_train.drop('Paved_Highways', axis=1)\n",
    "X_endog_test_1 = X_endog_test.drop('Paved_Highways', axis=1)"
   ]
  },
  {
   "cell_type": "code",
   "execution_count": 65,
   "metadata": {},
   "outputs": [
    {
     "data": {
      "text/plain": [
       "<statsmodels.regression.linear_model.OLS at 0x7f7ee9a9a5b0>"
      ]
     },
     "execution_count": 65,
     "metadata": {},
     "output_type": "execute_result"
    }
   ],
   "source": [
    "res = sm.OLS(y_train, X_endog_train_1)\n",
    "res"
   ]
  },
  {
   "cell_type": "code",
   "execution_count": 66,
   "metadata": {},
   "outputs": [
    {
     "data": {
      "text/html": [
       "<table class=\"simpletable\">\n",
       "<caption>OLS Regression Results</caption>\n",
       "<tr>\n",
       "  <th>Dep. Variable:</th>    <td>Petrol_Consumption</td> <th>  R-squared:         </th> <td>   0.666</td>\n",
       "</tr>\n",
       "<tr>\n",
       "  <th>Model:</th>                    <td>OLS</td>        <th>  Adj. R-squared:    </th> <td>   0.636</td>\n",
       "</tr>\n",
       "<tr>\n",
       "  <th>Method:</th>              <td>Least Squares</td>   <th>  F-statistic:       </th> <td>   22.56</td>\n",
       "</tr>\n",
       "<tr>\n",
       "  <th>Date:</th>              <td>Mon, 08 Nov 2021</td>  <th>  Prob (F-statistic):</th> <td>3.21e-08</td>\n",
       "</tr>\n",
       "<tr>\n",
       "  <th>Time:</th>                  <td>00:50:01</td>      <th>  Log-Likelihood:    </th> <td> -210.75</td>\n",
       "</tr>\n",
       "<tr>\n",
       "  <th>No. Observations:</th>       <td>    38</td>       <th>  AIC:               </th> <td>   429.5</td>\n",
       "</tr>\n",
       "<tr>\n",
       "  <th>Df Residuals:</th>           <td>    34</td>       <th>  BIC:               </th> <td>   436.1</td>\n",
       "</tr>\n",
       "<tr>\n",
       "  <th>Df Model:</th>               <td>     3</td>       <th>                     </th>     <td> </td>   \n",
       "</tr>\n",
       "<tr>\n",
       "  <th>Covariance Type:</th>       <td>nonrobust</td>     <th>                     </th>     <td> </td>   \n",
       "</tr>\n",
       "</table>\n",
       "<table class=\"simpletable\">\n",
       "<tr>\n",
       "                <td></td>                  <th>coef</th>     <th>std err</th>      <th>t</th>      <th>P>|t|</th>  <th>[0.025</th>    <th>0.975]</th>  \n",
       "</tr>\n",
       "<tr>\n",
       "  <th>const</th>                        <td>  264.6773</td> <td>  163.403</td> <td>    1.620</td> <td> 0.115</td> <td>  -67.397</td> <td>  596.752</td>\n",
       "</tr>\n",
       "<tr>\n",
       "  <th>Petrol_tax</th>                   <td>  -31.9525</td> <td>   11.683</td> <td>   -2.735</td> <td> 0.010</td> <td>  -55.695</td> <td>   -8.210</td>\n",
       "</tr>\n",
       "<tr>\n",
       "  <th>Average_income</th>               <td>   -0.0648</td> <td>    0.020</td> <td>   -3.317</td> <td> 0.002</td> <td>   -0.105</td> <td>   -0.025</td>\n",
       "</tr>\n",
       "<tr>\n",
       "  <th>Population_Driver_licence(%)</th> <td> 1453.7912</td> <td>  213.045</td> <td>    6.824</td> <td> 0.000</td> <td> 1020.832</td> <td> 1886.751</td>\n",
       "</tr>\n",
       "</table>\n",
       "<table class=\"simpletable\">\n",
       "<tr>\n",
       "  <th>Omnibus:</th>       <td>20.317</td> <th>  Durbin-Watson:     </th> <td>   2.150</td>\n",
       "</tr>\n",
       "<tr>\n",
       "  <th>Prob(Omnibus):</th> <td> 0.000</td> <th>  Jarque-Bera (JB):  </th> <td>  30.370</td>\n",
       "</tr>\n",
       "<tr>\n",
       "  <th>Skew:</th>          <td> 1.487</td> <th>  Prob(JB):          </th> <td>2.54e-07</td>\n",
       "</tr>\n",
       "<tr>\n",
       "  <th>Kurtosis:</th>      <td> 6.214</td> <th>  Cond. No.          </th> <td>1.01e+05</td>\n",
       "</tr>\n",
       "</table><br/><br/>Notes:<br/>[1] Standard Errors assume that the covariance matrix of the errors is correctly specified.<br/>[2] The condition number is large, 1.01e+05. This might indicate that there are<br/>strong multicollinearity or other numerical problems."
      ],
      "text/plain": [
       "<class 'statsmodels.iolib.summary.Summary'>\n",
       "\"\"\"\n",
       "                            OLS Regression Results                            \n",
       "==============================================================================\n",
       "Dep. Variable:     Petrol_Consumption   R-squared:                       0.666\n",
       "Model:                            OLS   Adj. R-squared:                  0.636\n",
       "Method:                 Least Squares   F-statistic:                     22.56\n",
       "Date:                Mon, 08 Nov 2021   Prob (F-statistic):           3.21e-08\n",
       "Time:                        00:50:01   Log-Likelihood:                -210.75\n",
       "No. Observations:                  38   AIC:                             429.5\n",
       "Df Residuals:                      34   BIC:                             436.1\n",
       "Df Model:                           3                                         \n",
       "Covariance Type:            nonrobust                                         \n",
       "================================================================================================\n",
       "                                   coef    std err          t      P>|t|      [0.025      0.975]\n",
       "------------------------------------------------------------------------------------------------\n",
       "const                          264.6773    163.403      1.620      0.115     -67.397     596.752\n",
       "Petrol_tax                     -31.9525     11.683     -2.735      0.010     -55.695      -8.210\n",
       "Average_income                  -0.0648      0.020     -3.317      0.002      -0.105      -0.025\n",
       "Population_Driver_licence(%)  1453.7912    213.045      6.824      0.000    1020.832    1886.751\n",
       "==============================================================================\n",
       "Omnibus:                       20.317   Durbin-Watson:                   2.150\n",
       "Prob(Omnibus):                  0.000   Jarque-Bera (JB):               30.370\n",
       "Skew:                           1.487   Prob(JB):                     2.54e-07\n",
       "Kurtosis:                       6.214   Cond. No.                     1.01e+05\n",
       "==============================================================================\n",
       "\n",
       "Notes:\n",
       "[1] Standard Errors assume that the covariance matrix of the errors is correctly specified.\n",
       "[2] The condition number is large, 1.01e+05. This might indicate that there are\n",
       "strong multicollinearity or other numerical problems.\n",
       "\"\"\""
      ]
     },
     "execution_count": 66,
     "metadata": {},
     "output_type": "execute_result"
    }
   ],
   "source": [
    "res.fit().summary()"
   ]
  },
  {
   "cell_type": "markdown",
   "metadata": {},
   "source": [
    "##### By comparing the model evaluation metrics of both the OLS based Linear Regression models we have built, we can say that the latest OLS model is a bit worse in terms of output values."
   ]
  },
  {
   "cell_type": "markdown",
   "metadata": {},
   "source": [
    "#### Let's give one last try by removing both co-efficient & 'Paved_Highways' and building both the models."
   ]
  },
  {
   "cell_type": "markdown",
   "metadata": {},
   "source": [
    "#### Let's start with Scikit learn model"
   ]
  },
  {
   "cell_type": "code",
   "execution_count": 67,
   "metadata": {},
   "outputs": [
    {
     "data": {
      "text/plain": [
       "LinearRegression(fit_intercept=False)"
      ]
     },
     "execution_count": 67,
     "metadata": {},
     "output_type": "execute_result"
    }
   ],
   "source": [
    "# 'fit_intercept=False' is to disable constant \n",
    "regressor = LinearRegression(fit_intercept=False)\n",
    "\n",
    "# Passing Dataset with Independent variables and Dataset with Dependent variable as X and Y\n",
    "# This will create an equation with best fit line following OLS model\n",
    "regressor.fit(X_train_1, y_train)"
   ]
  },
  {
   "cell_type": "code",
   "execution_count": 68,
   "metadata": {},
   "outputs": [
    {
     "data": {
      "text/html": [
       "<div>\n",
       "<style scoped>\n",
       "    .dataframe tbody tr th:only-of-type {\n",
       "        vertical-align: middle;\n",
       "    }\n",
       "\n",
       "    .dataframe tbody tr th {\n",
       "        vertical-align: top;\n",
       "    }\n",
       "\n",
       "    .dataframe thead th {\n",
       "        text-align: right;\n",
       "    }\n",
       "</style>\n",
       "<table border=\"1\" class=\"dataframe\">\n",
       "  <thead>\n",
       "    <tr style=\"text-align: right;\">\n",
       "      <th></th>\n",
       "      <th>Coefficient</th>\n",
       "    </tr>\n",
       "  </thead>\n",
       "  <tbody>\n",
       "    <tr>\n",
       "      <th>Petrol_tax</th>\n",
       "      <td>-21.526899</td>\n",
       "    </tr>\n",
       "    <tr>\n",
       "      <th>Average_income</th>\n",
       "      <td>-0.055613</td>\n",
       "    </tr>\n",
       "    <tr>\n",
       "      <th>Population_Driver_licence(%)</th>\n",
       "      <td>1706.644336</td>\n",
       "    </tr>\n",
       "  </tbody>\n",
       "</table>\n",
       "</div>"
      ],
      "text/plain": [
       "                              Coefficient\n",
       "Petrol_tax                     -21.526899\n",
       "Average_income                  -0.055613\n",
       "Population_Driver_licence(%)  1706.644336"
      ]
     },
     "execution_count": 68,
     "metadata": {},
     "output_type": "execute_result"
    }
   ],
   "source": [
    "# Fetching co-efficient value for each Independent variable\n",
    "coeff_df = pd.DataFrame(regressor.coef_, X_train_1.columns, columns=['Coefficient'])\n",
    "coeff_df"
   ]
  },
  {
   "cell_type": "code",
   "execution_count": 69,
   "metadata": {},
   "outputs": [
    {
     "data": {
      "text/plain": [
       "array([503.00782959, 531.8273559 , 609.26769649, 633.37099789,\n",
       "       564.12994864, 670.24814692, 462.13946699, 470.52705975,\n",
       "       486.48610736, 585.38935773, 561.0370013 , 483.28797395,\n",
       "       639.28168694, 583.17481043, 554.88945085, 555.7176879 ,\n",
       "       530.92159916, 406.01555851, 508.01577478, 539.46161535,\n",
       "       578.06436063, 731.00288043, 643.88214965, 754.53755422,\n",
       "       449.46351533, 540.45283747, 673.63702626, 545.46833868,\n",
       "       632.68083375, 581.16679118, 571.27175582, 720.39108714,\n",
       "       527.73588908, 462.71739914, 746.3727455 , 591.60334889,\n",
       "       488.10895484, 822.65058004])"
      ]
     },
     "execution_count": 69,
     "metadata": {},
     "output_type": "execute_result"
    }
   ],
   "source": [
    "# Calculating Predicted values for train data\n",
    "y_pred = regressor.predict(X_train_1)\n",
    "y_pred"
   ]
  },
  {
   "cell_type": "code",
   "execution_count": 70,
   "metadata": {},
   "outputs": [
    {
     "name": "stdout",
     "output_type": "stream",
     "text": [
      "Mean Absolute Error: 49.34960629956919\n",
      "Mean Squared Error: 4141.312824354027\n",
      "Root Mean Squared Error: 64.35303275179831\n",
      "Mean Absolute percentage error: 8.165965055218852\n"
     ]
    }
   ],
   "source": [
    "# Model evaluation metrics(Train data) - Scikit learn model\n",
    "\n",
    "y_pred = regressor.predict(X_train_1)\n",
    "\n",
    "from sklearn import metrics\n",
    "print('Mean Absolute Error:', metrics.mean_absolute_error(y_train, y_pred))\n",
    "print('Mean Squared Error:', metrics.mean_squared_error(y_train, y_pred))\n",
    "print('Root Mean Squared Error:', np.sqrt(metrics.mean_squared_error(y_train, y_pred)))\n",
    "\n",
    "# Function to calculate MAPE(Mean Absolute Percentage Error)\n",
    "def mean_absolute_percentage_error(y_true, y_pred): \n",
    "    return np.mean(np.abs((y_true - y_pred) / y_true)) * 100\n",
    "\n",
    "# Model evaluation metrics - Scikit learn model\n",
    "print('Mean Absolute percentage error:', mean_absolute_percentage_error(y_train, y_pred))"
   ]
  },
  {
   "cell_type": "code",
   "execution_count": 71,
   "metadata": {},
   "outputs": [
    {
     "name": "stdout",
     "output_type": "stream",
     "text": [
      "Mean Absolute Error: 68.4169610973407\n",
      "Mean Squared Error: 5408.643170560821\n",
      "Root Mean Squared Error: 73.54347809670699\n",
      "Mean Absolute percentage error: 12.6531011648782\n"
     ]
    }
   ],
   "source": [
    "# Model evaluation metrics(Test data) - Scikit learn model\n",
    "\n",
    "y_pred_test = regressor.predict(X_test_1)\n",
    "\n",
    "print('Mean Absolute Error:', metrics.mean_absolute_error(y_test, y_pred_test))\n",
    "print('Mean Squared Error:', metrics.mean_squared_error(y_test, y_pred_test))\n",
    "print('Root Mean Squared Error:', np.sqrt(metrics.mean_squared_error(y_test, y_pred_test)))\n",
    "\n",
    "# Function to calculate MAPE(Mean Absolute Percentage Error)\n",
    "def mean_absolute_percentage_error(y_true, y_pred): \n",
    "    return np.mean(np.abs((y_true - y_pred) / y_true)) * 100\n",
    "\n",
    "# Model evaluation metrics - Scikit learn model\n",
    "print('Mean Absolute percentage error:', mean_absolute_percentage_error(y_test, y_pred_test))"
   ]
  },
  {
   "cell_type": "markdown",
   "metadata": {},
   "source": [
    "##### By comparing the model evaluation metrics of all three Scikit learn models we have built, we can say that the first Scikit learn model is better in terms of results."
   ]
  },
  {
   "cell_type": "markdown",
   "metadata": {},
   "source": [
    "#### Let's built OLS based Regression model and see whether we get better results."
   ]
  },
  {
   "cell_type": "code",
   "execution_count": 73,
   "metadata": {},
   "outputs": [],
   "source": [
    "# Removing 'const' from Train data and Test data\n",
    "X_endog_train_2 = X_endog_train_1.drop('const', axis=1)\n",
    "X_endog_test_2 = X_endog_test_1.drop('const', axis=1)"
   ]
  },
  {
   "cell_type": "code",
   "execution_count": 74,
   "metadata": {},
   "outputs": [
    {
     "data": {
      "text/plain": [
       "<statsmodels.regression.linear_model.OLS at 0x7f7eeab37e80>"
      ]
     },
     "execution_count": 74,
     "metadata": {},
     "output_type": "execute_result"
    }
   ],
   "source": [
    "res = sm.OLS(y_train, X_endog_train_2)\n",
    "res"
   ]
  },
  {
   "cell_type": "code",
   "execution_count": 75,
   "metadata": {},
   "outputs": [
    {
     "data": {
      "text/html": [
       "<table class=\"simpletable\">\n",
       "<caption>OLS Regression Results</caption>\n",
       "<tr>\n",
       "  <th>Dep. Variable:</th>    <td>Petrol_Consumption</td> <th>  R-squared (uncentered):</th>      <td>   0.988</td>\n",
       "</tr>\n",
       "<tr>\n",
       "  <th>Model:</th>                    <td>OLS</td>        <th>  Adj. R-squared (uncentered):</th> <td>   0.987</td>\n",
       "</tr>\n",
       "<tr>\n",
       "  <th>Method:</th>              <td>Least Squares</td>   <th>  F-statistic:       </th>          <td>   963.4</td>\n",
       "</tr>\n",
       "<tr>\n",
       "  <th>Date:</th>              <td>Mon, 08 Nov 2021</td>  <th>  Prob (F-statistic):</th>          <td>1.11e-33</td>\n",
       "</tr>\n",
       "<tr>\n",
       "  <th>Time:</th>                  <td>01:03:45</td>      <th>  Log-Likelihood:    </th>          <td> -212.17</td>\n",
       "</tr>\n",
       "<tr>\n",
       "  <th>No. Observations:</th>       <td>    38</td>       <th>  AIC:               </th>          <td>   430.3</td>\n",
       "</tr>\n",
       "<tr>\n",
       "  <th>Df Residuals:</th>           <td>    35</td>       <th>  BIC:               </th>          <td>   435.2</td>\n",
       "</tr>\n",
       "<tr>\n",
       "  <th>Df Model:</th>               <td>     3</td>       <th>                     </th>              <td> </td>   \n",
       "</tr>\n",
       "<tr>\n",
       "  <th>Covariance Type:</th>       <td>nonrobust</td>     <th>                     </th>              <td> </td>   \n",
       "</tr>\n",
       "</table>\n",
       "<table class=\"simpletable\">\n",
       "<tr>\n",
       "                <td></td>                  <th>coef</th>     <th>std err</th>      <th>t</th>      <th>P>|t|</th>  <th>[0.025</th>    <th>0.975]</th>  \n",
       "</tr>\n",
       "<tr>\n",
       "  <th>Petrol_tax</th>                   <td>  -21.5269</td> <td>    9.973</td> <td>   -2.158</td> <td> 0.038</td> <td>  -41.774</td> <td>   -1.280</td>\n",
       "</tr>\n",
       "<tr>\n",
       "  <th>Average_income</th>               <td>   -0.0556</td> <td>    0.019</td> <td>   -2.908</td> <td> 0.006</td> <td>   -0.094</td> <td>   -0.017</td>\n",
       "</tr>\n",
       "<tr>\n",
       "  <th>Population_Driver_licence(%)</th> <td> 1706.6443</td> <td>  148.308</td> <td>   11.507</td> <td> 0.000</td> <td> 1405.564</td> <td> 2007.725</td>\n",
       "</tr>\n",
       "</table>\n",
       "<table class=\"simpletable\">\n",
       "<tr>\n",
       "  <th>Omnibus:</th>       <td>11.477</td> <th>  Durbin-Watson:     </th> <td>   1.997</td>\n",
       "</tr>\n",
       "<tr>\n",
       "  <th>Prob(Omnibus):</th> <td> 0.003</td> <th>  Jarque-Bera (JB):  </th> <td>  11.358</td>\n",
       "</tr>\n",
       "<tr>\n",
       "  <th>Skew:</th>          <td> 1.062</td> <th>  Prob(JB):          </th> <td> 0.00342</td>\n",
       "</tr>\n",
       "<tr>\n",
       "  <th>Kurtosis:</th>      <td> 4.632</td> <th>  Cond. No.          </th> <td>5.82e+04</td>\n",
       "</tr>\n",
       "</table><br/><br/>Notes:<br/>[1] R² is computed without centering (uncentered) since the model does not contain a constant.<br/>[2] Standard Errors assume that the covariance matrix of the errors is correctly specified.<br/>[3] The condition number is large, 5.82e+04. This might indicate that there are<br/>strong multicollinearity or other numerical problems."
      ],
      "text/plain": [
       "<class 'statsmodels.iolib.summary.Summary'>\n",
       "\"\"\"\n",
       "                                 OLS Regression Results                                \n",
       "=======================================================================================\n",
       "Dep. Variable:     Petrol_Consumption   R-squared (uncentered):                   0.988\n",
       "Model:                            OLS   Adj. R-squared (uncentered):              0.987\n",
       "Method:                 Least Squares   F-statistic:                              963.4\n",
       "Date:                Mon, 08 Nov 2021   Prob (F-statistic):                    1.11e-33\n",
       "Time:                        01:03:45   Log-Likelihood:                         -212.17\n",
       "No. Observations:                  38   AIC:                                      430.3\n",
       "Df Residuals:                      35   BIC:                                      435.2\n",
       "Df Model:                           3                                                  \n",
       "Covariance Type:            nonrobust                                                  \n",
       "================================================================================================\n",
       "                                   coef    std err          t      P>|t|      [0.025      0.975]\n",
       "------------------------------------------------------------------------------------------------\n",
       "Petrol_tax                     -21.5269      9.973     -2.158      0.038     -41.774      -1.280\n",
       "Average_income                  -0.0556      0.019     -2.908      0.006      -0.094      -0.017\n",
       "Population_Driver_licence(%)  1706.6443    148.308     11.507      0.000    1405.564    2007.725\n",
       "==============================================================================\n",
       "Omnibus:                       11.477   Durbin-Watson:                   1.997\n",
       "Prob(Omnibus):                  0.003   Jarque-Bera (JB):               11.358\n",
       "Skew:                           1.062   Prob(JB):                      0.00342\n",
       "Kurtosis:                       4.632   Cond. No.                     5.82e+04\n",
       "==============================================================================\n",
       "\n",
       "Notes:\n",
       "[1] R² is computed without centering (uncentered) since the model does not contain a constant.\n",
       "[2] Standard Errors assume that the covariance matrix of the errors is correctly specified.\n",
       "[3] The condition number is large, 5.82e+04. This might indicate that there are\n",
       "strong multicollinearity or other numerical problems.\n",
       "\"\"\""
      ]
     },
     "execution_count": 75,
     "metadata": {},
     "output_type": "execute_result"
    }
   ],
   "source": [
    "res.fit().summary()"
   ]
  },
  {
   "cell_type": "markdown",
   "metadata": {},
   "source": [
    "##### By comparing the model evaluation metrics of all three OLS based Linear Regression models we have built, we can say that the latest OLS model is better in terms of output values. But, even this model has not met the assumptions of OLS."
   ]
  },
  {
   "cell_type": "markdown",
   "metadata": {},
   "source": [
    "##### By comparing results of all the Linear Regression models we have built, we can conclude that the first Scikit Learn model with all the variables have given us better results. At this point, we have to check whether Non-linear models give better results. If no, it is better to stick with the Linear Regression model and vice versa."
   ]
  },
  {
   "cell_type": "code",
   "execution_count": null,
   "metadata": {},
   "outputs": [],
   "source": []
  }
 ],
 "metadata": {
  "kernelspec": {
   "display_name": "Python 3",
   "language": "python",
   "name": "python3"
  },
  "language_info": {
   "codemirror_mode": {
    "name": "ipython",
    "version": 3
   },
   "file_extension": ".py",
   "mimetype": "text/x-python",
   "name": "python",
   "nbconvert_exporter": "python",
   "pygments_lexer": "ipython3",
   "version": "3.8.5"
  }
 },
 "nbformat": 4,
 "nbformat_minor": 4
}
