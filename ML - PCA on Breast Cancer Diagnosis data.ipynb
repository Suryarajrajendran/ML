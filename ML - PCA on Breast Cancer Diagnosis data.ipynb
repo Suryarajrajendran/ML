{
 "cells": [
  {
   "cell_type": "markdown",
   "metadata": {},
   "source": [
    "### The problem we are dealing with is Cancer Diagnosis. But, we are not going to build a model here. Instead we will try to reduce dimensionality using PCA and explore what happens after appying PCA. "
   ]
  },
  {
   "cell_type": "markdown",
   "metadata": {},
   "source": [
    "#### Step 1: Let's download all the libraries needed to perform PCA"
   ]
  },
  {
   "cell_type": "code",
   "execution_count": 1,
   "metadata": {},
   "outputs": [],
   "source": [
    "from sklearn.preprocessing import StandardScaler\n",
    "from sklearn.decomposition import PCA\n",
    "import pandas as pd\n",
    "import numpy as np"
   ]
  },
  {
   "cell_type": "markdown",
   "metadata": {},
   "source": [
    "#### Step 2: Let's download the dataset"
   ]
  },
  {
   "cell_type": "code",
   "execution_count": 2,
   "metadata": {},
   "outputs": [],
   "source": [
    "from sklearn.datasets import load_breast_cancer\n",
    "\n",
    "cancer = load_breast_cancer()\n",
    "\n",
    "col_names = list(cancer.feature_names)\n",
    "col_names.append('target')\n",
    "df = pd.DataFrame(np.c_[cancer.data, cancer.target], columns=col_names)"
   ]
  },
  {
   "cell_type": "markdown",
   "metadata": {},
   "source": [
    "#### Step 3: Let's split the data to X and Y"
   ]
  },
  {
   "cell_type": "code",
   "execution_count": 3,
   "metadata": {},
   "outputs": [],
   "source": [
    "X = df.drop('target', axis=1)\n",
    "y = df.target"
   ]
  },
  {
   "cell_type": "markdown",
   "metadata": {},
   "source": [
    "##### Since PCA is also a distance based technique, it is better to perform scaling before performing PCA."
   ]
  },
  {
   "cell_type": "markdown",
   "metadata": {},
   "source": [
    "#### Step 4: Let's perform scaling before doing PCA"
   ]
  },
  {
   "cell_type": "code",
   "execution_count": 4,
   "metadata": {},
   "outputs": [],
   "source": [
    "scaler = StandardScaler()\n",
    "X_scaled = scaler.fit_transform(X)"
   ]
  },
  {
   "cell_type": "markdown",
   "metadata": {},
   "source": [
    "#### Step 5: Let's perform PCA by passing a fraction value representing percentage of information to be retrieved"
   ]
  },
  {
   "cell_type": "code",
   "execution_count": 5,
   "metadata": {},
   "outputs": [],
   "source": [
    "pca = PCA(n_components=.9)\n",
    "X_percent_pca = pca.fit_transform(X_scaled)"
   ]
  },
  {
   "cell_type": "markdown",
   "metadata": {},
   "source": [
    "##### Now that we have applied PCA, let's get how many variables it has created and how much information each of the new attribute has captured."
   ]
  },
  {
   "cell_type": "markdown",
   "metadata": {},
   "source": [
    "#### Step 6: Fetch the number of new features created and how much information each of the new feature has captured."
   ]
  },
  {
   "cell_type": "code",
   "execution_count": 6,
   "metadata": {},
   "outputs": [
    {
     "data": {
      "text/plain": [
       "array([0.44272026, 0.18971182, 0.09393163, 0.06602135, 0.05495768,\n",
       "       0.04024522, 0.02250734])"
      ]
     },
     "execution_count": 6,
     "metadata": {},
     "output_type": "execute_result"
    }
   ],
   "source": [
    "pca.explained_variance_ratio_"
   ]
  },
  {
   "cell_type": "markdown",
   "metadata": {},
   "source": [
    "##### By looking at the data, we can say that 7 new features have been created. First one has captured 44.2% of the information, second one has captured 18.9% of the information and so on. Now that we have got the information ratio, let's fetch how much weight each original variable had in each of the new features."
   ]
  },
  {
   "cell_type": "markdown",
   "metadata": {},
   "source": [
    "#### Step 7: Let's fetch how much weight each original variable had in each of the new features"
   ]
  },
  {
   "cell_type": "code",
   "execution_count": 7,
   "metadata": {
    "scrolled": true
   },
   "outputs": [
    {
     "data": {
      "text/plain": [
       "array([[ 2.18902444e-01,  1.03724578e-01,  2.27537293e-01,\n",
       "         2.20994985e-01,  1.42589694e-01,  2.39285354e-01,\n",
       "         2.58400481e-01,  2.60853758e-01,  1.38166959e-01,\n",
       "         6.43633464e-02,  2.05978776e-01,  1.74280281e-02,\n",
       "         2.11325916e-01,  2.02869635e-01,  1.45314521e-02,\n",
       "         1.70393451e-01,  1.53589790e-01,  1.83417397e-01,\n",
       "         4.24984216e-02,  1.02568322e-01,  2.27996634e-01,\n",
       "         1.04469325e-01,  2.36639681e-01,  2.24870533e-01,\n",
       "         1.27952561e-01,  2.10095880e-01,  2.28767533e-01,\n",
       "         2.50885971e-01,  1.22904556e-01,  1.31783943e-01],\n",
       "       [-2.33857132e-01, -5.97060883e-02, -2.15181361e-01,\n",
       "        -2.31076711e-01,  1.86113023e-01,  1.51891610e-01,\n",
       "         6.01653628e-02, -3.47675005e-02,  1.90348770e-01,\n",
       "         3.66575471e-01, -1.05552152e-01,  8.99796818e-02,\n",
       "        -8.94572342e-02, -1.52292628e-01,  2.04430453e-01,\n",
       "         2.32715896e-01,  1.97207283e-01,  1.30321560e-01,\n",
       "         1.83848000e-01,  2.80092027e-01, -2.19866379e-01,\n",
       "        -4.54672983e-02, -1.99878428e-01, -2.19351858e-01,\n",
       "         1.72304352e-01,  1.43593173e-01,  9.79641143e-02,\n",
       "        -8.25723507e-03,  1.41883349e-01,  2.75339469e-01],\n",
       "       [-8.53124284e-03,  6.45499033e-02, -9.31421972e-03,\n",
       "         2.86995259e-02, -1.04291904e-01, -7.40915709e-02,\n",
       "         2.73383798e-03, -2.55635406e-02, -4.02399363e-02,\n",
       "        -2.25740897e-02,  2.68481387e-01,  3.74633665e-01,\n",
       "         2.66645367e-01,  2.16006528e-01,  3.08838979e-01,\n",
       "         1.54779718e-01,  1.76463743e-01,  2.24657567e-01,\n",
       "         2.88584292e-01,  2.11503764e-01, -4.75069900e-02,\n",
       "        -4.22978228e-02, -4.85465083e-02, -1.19023182e-02,\n",
       "        -2.59797613e-01, -2.36075625e-01, -1.73057335e-01,\n",
       "        -1.70344076e-01, -2.71312642e-01, -2.32791313e-01],\n",
       "       [ 4.14089623e-02, -6.03050001e-01,  4.19830991e-02,\n",
       "         5.34337955e-02,  1.59382765e-01,  3.17945811e-02,\n",
       "         1.91227535e-02,  6.53359443e-02,  6.71249840e-02,\n",
       "         4.85867649e-02,  9.79412418e-02, -3.59855528e-01,\n",
       "         8.89924146e-02,  1.08205039e-01,  4.46641797e-02,\n",
       "        -2.74693632e-02,  1.31687997e-03,  7.40673350e-02,\n",
       "         4.40733510e-02,  1.53047496e-02,  1.54172396e-02,\n",
       "        -6.32807885e-01,  1.38027944e-02,  2.58947492e-02,\n",
       "         1.76522161e-02, -9.13284153e-02, -7.39511797e-02,\n",
       "         6.00699571e-03, -3.62506947e-02, -7.70534703e-02],\n",
       "       [ 3.77863538e-02, -4.94688505e-02,  3.73746632e-02,\n",
       "         1.03312514e-02, -3.65088528e-01,  1.17039713e-02,\n",
       "         8.63754118e-02, -4.38610252e-02, -3.05941428e-01,\n",
       "        -4.44243602e-02, -1.54456496e-01, -1.91650506e-01,\n",
       "        -1.20990220e-01, -1.27574432e-01, -2.32065676e-01,\n",
       "         2.79968156e-01,  3.53982091e-01,  1.95548089e-01,\n",
       "        -2.52868765e-01,  2.63297438e-01, -4.40659209e-03,\n",
       "        -9.28834001e-02,  7.45415100e-03, -2.73909030e-02,\n",
       "        -3.24435445e-01,  1.21804107e-01,  1.88518727e-01,\n",
       "         4.33320687e-02, -2.44558663e-01,  9.44233510e-02],\n",
       "       [ 1.87407904e-02, -3.21788366e-02,  1.73084449e-02,\n",
       "        -1.88774796e-03, -2.86374497e-01, -1.41309489e-02,\n",
       "        -9.34418089e-03, -5.20499505e-02,  3.56458461e-01,\n",
       "        -1.19430668e-01, -2.56032561e-02, -2.87473145e-02,\n",
       "         1.81071500e-03, -4.28639079e-02, -3.42917393e-01,\n",
       "         6.91975186e-02,  5.63432386e-02, -3.12244482e-02,\n",
       "         4.90245643e-01, -5.31952674e-02, -2.90684919e-04,\n",
       "        -5.00080613e-02,  8.50098715e-03, -2.51643821e-02,\n",
       "        -3.69255370e-01,  4.77057929e-02,  2.83792555e-02,\n",
       "        -3.08734498e-02,  4.98926784e-01, -8.02235245e-02],\n",
       "       [-1.24088340e-01,  1.13995382e-02, -1.14477057e-01,\n",
       "        -5.16534275e-02, -1.40668993e-01,  3.09184960e-02,\n",
       "        -1.07520443e-01, -1.50482214e-01, -9.38911345e-02,\n",
       "         2.95760024e-01,  3.12490037e-01, -9.07553556e-02,\n",
       "         3.14640390e-01,  3.46679003e-01, -2.44024056e-01,\n",
       "         2.34635340e-02, -2.08823790e-01, -3.69645937e-01,\n",
       "        -8.03822539e-02,  1.91394973e-01, -9.70993602e-03,\n",
       "         9.87074388e-03, -4.45726717e-04,  6.78316595e-02,\n",
       "        -1.08830886e-01,  1.40472938e-01, -6.04880561e-02,\n",
       "        -1.67966619e-01, -1.84906298e-02,  3.74657626e-01]])"
      ]
     },
     "execution_count": 7,
     "metadata": {},
     "output_type": "execute_result"
    }
   ],
   "source": [
    "pca.components_"
   ]
  },
  {
   "cell_type": "markdown",
   "metadata": {},
   "source": [
    "##### By looking at the data above, we can notice that there are 7 brackets, each bracket specfies one new feature. Fractions within the brackets specify how much weight each of the old feature respectively had on the new feature. For example, in the first PCA feature, weightage of first old feature is 0.21 approximately and so on. So, all of the variables had contribution on each variable created by PCA."
   ]
  },
  {
   "cell_type": "markdown",
   "metadata": {},
   "source": [
    "##### Now that we have seen how to perform PCA by passing a fraction value representing percentage of information to be retrieved, let's perform PCA by passing number of features to be retrieved."
   ]
  },
  {
   "cell_type": "markdown",
   "metadata": {},
   "source": [
    "#### Step 8: Let's perform PCA by passing number of features to be retrieved"
   ]
  },
  {
   "cell_type": "code",
   "execution_count": 8,
   "metadata": {},
   "outputs": [],
   "source": [
    "pca_feature = PCA(n_components=10)\n",
    "X_number_pca = pca_feature.fit_transform(X_scaled)"
   ]
  },
  {
   "cell_type": "markdown",
   "metadata": {},
   "source": [
    "##### Now that we have applied PCA, let's fetch how much information each of the new attribute has captured."
   ]
  },
  {
   "cell_type": "markdown",
   "metadata": {},
   "source": [
    "#### Step 9: Fetch the amount of information each of the new feature has captured."
   ]
  },
  {
   "cell_type": "code",
   "execution_count": 9,
   "metadata": {},
   "outputs": [
    {
     "data": {
      "text/plain": [
       "array([0.44272026, 0.18971182, 0.09393163, 0.06602135, 0.05495768,\n",
       "       0.04024522, 0.02250734, 0.01588724, 0.01389649, 0.01168978])"
      ]
     },
     "execution_count": 9,
     "metadata": {},
     "output_type": "execute_result"
    }
   ],
   "source": [
    "pca_feature.explained_variance_ratio_"
   ]
  },
  {
   "cell_type": "markdown",
   "metadata": {},
   "source": [
    "##### By looking at the data, we can say that First one has captured 44.2% of the information, second one has captured 18.9% of the information and so on. Now that we have got the information ratio, let's fetch how much weight each original variable had in each of the new features. The amount of information captured by first 7 variables is same as the information captured by variables created above. So, we can say that the way PCA is performed doesn't vary."
   ]
  },
  {
   "cell_type": "markdown",
   "metadata": {},
   "source": [
    "#### Step 10: Let's fetch how much weight each original variable had in each of the new features"
   ]
  },
  {
   "cell_type": "code",
   "execution_count": 10,
   "metadata": {
    "scrolled": true
   },
   "outputs": [
    {
     "data": {
      "text/plain": [
       "array([[ 2.18902444e-01,  1.03724578e-01,  2.27537293e-01,\n",
       "         2.20994985e-01,  1.42589694e-01,  2.39285354e-01,\n",
       "         2.58400481e-01,  2.60853758e-01,  1.38166959e-01,\n",
       "         6.43633464e-02,  2.05978776e-01,  1.74280281e-02,\n",
       "         2.11325916e-01,  2.02869635e-01,  1.45314521e-02,\n",
       "         1.70393451e-01,  1.53589790e-01,  1.83417397e-01,\n",
       "         4.24984216e-02,  1.02568322e-01,  2.27996634e-01,\n",
       "         1.04469325e-01,  2.36639681e-01,  2.24870533e-01,\n",
       "         1.27952561e-01,  2.10095880e-01,  2.28767533e-01,\n",
       "         2.50885971e-01,  1.22904556e-01,  1.31783943e-01],\n",
       "       [-2.33857132e-01, -5.97060883e-02, -2.15181361e-01,\n",
       "        -2.31076711e-01,  1.86113023e-01,  1.51891610e-01,\n",
       "         6.01653628e-02, -3.47675005e-02,  1.90348770e-01,\n",
       "         3.66575471e-01, -1.05552152e-01,  8.99796818e-02,\n",
       "        -8.94572342e-02, -1.52292628e-01,  2.04430453e-01,\n",
       "         2.32715896e-01,  1.97207283e-01,  1.30321560e-01,\n",
       "         1.83848000e-01,  2.80092027e-01, -2.19866379e-01,\n",
       "        -4.54672983e-02, -1.99878428e-01, -2.19351858e-01,\n",
       "         1.72304352e-01,  1.43593173e-01,  9.79641143e-02,\n",
       "        -8.25723507e-03,  1.41883349e-01,  2.75339469e-01],\n",
       "       [-8.53124283e-03,  6.45499033e-02, -9.31421971e-03,\n",
       "         2.86995259e-02, -1.04291904e-01, -7.40915709e-02,\n",
       "         2.73383795e-03, -2.55635406e-02, -4.02399363e-02,\n",
       "        -2.25740897e-02,  2.68481387e-01,  3.74633665e-01,\n",
       "         2.66645367e-01,  2.16006528e-01,  3.08838979e-01,\n",
       "         1.54779718e-01,  1.76463743e-01,  2.24657567e-01,\n",
       "         2.88584292e-01,  2.11503764e-01, -4.75069900e-02,\n",
       "        -4.22978227e-02, -4.85465083e-02, -1.19023182e-02,\n",
       "        -2.59797613e-01, -2.36075625e-01, -1.73057335e-01,\n",
       "        -1.70344076e-01, -2.71312642e-01, -2.32791313e-01],\n",
       "       [ 4.14089623e-02, -6.03050000e-01,  4.19830991e-02,\n",
       "         5.34337955e-02,  1.59382765e-01,  3.17945816e-02,\n",
       "         1.91227536e-02,  6.53359443e-02,  6.71249839e-02,\n",
       "         4.85867647e-02,  9.79412418e-02, -3.59855528e-01,\n",
       "         8.89924139e-02,  1.08205039e-01,  4.46641795e-02,\n",
       "        -2.74693635e-02,  1.31687995e-03,  7.40673353e-02,\n",
       "         4.40733510e-02,  1.53047496e-02,  1.54172395e-02,\n",
       "        -6.32807885e-01,  1.38027941e-02,  2.58947494e-02,\n",
       "         1.76522165e-02, -9.13284151e-02, -7.39511799e-02,\n",
       "         6.00699539e-03, -3.62506946e-02, -7.70534703e-02],\n",
       "       [ 3.77863535e-02, -4.94688491e-02,  3.73746630e-02,\n",
       "         1.03312517e-02, -3.65088529e-01,  1.17039725e-02,\n",
       "         8.63754125e-02, -4.38610254e-02, -3.05941428e-01,\n",
       "        -4.44243608e-02, -1.54456496e-01, -1.91650505e-01,\n",
       "        -1.20990222e-01, -1.27574430e-01, -2.32065677e-01,\n",
       "         2.79968155e-01,  3.53982091e-01,  1.95548090e-01,\n",
       "        -2.52868765e-01,  2.63297438e-01, -4.40659250e-03,\n",
       "        -9.28834020e-02,  7.45415037e-03, -2.73909021e-02,\n",
       "        -3.24435444e-01,  1.21804107e-01,  1.88518726e-01,\n",
       "         4.33320675e-02, -2.44558663e-01,  9.44233511e-02],\n",
       "       [ 1.87407899e-02, -3.21788326e-02,  1.73084446e-02,\n",
       "        -1.88774696e-03, -2.86374499e-01, -1.41309466e-02,\n",
       "        -9.34417944e-03, -5.20499509e-02,  3.56458460e-01,\n",
       "        -1.19430669e-01, -2.56032571e-02, -2.87473125e-02,\n",
       "         1.81071128e-03, -4.28639037e-02, -3.42917395e-01,\n",
       "         6.91975177e-02,  5.63432376e-02, -3.12244457e-02,\n",
       "         4.90245642e-01, -5.31952672e-02, -2.90685905e-04,\n",
       "        -5.00080665e-02,  8.50098537e-03, -2.51643800e-02,\n",
       "        -3.69255367e-01,  4.77057938e-02,  2.83792546e-02,\n",
       "        -3.08734524e-02,  4.98926785e-01, -8.02235247e-02],\n",
       "       [-1.24088326e-01,  1.13994642e-02, -1.14477051e-01,\n",
       "        -5.16534536e-02, -1.40668951e-01,  3.09184779e-02,\n",
       "        -1.07520487e-01, -1.50482206e-01, -9.38911257e-02,\n",
       "         2.95760035e-01,  3.12490090e-01, -9.07553910e-02,\n",
       "         3.14640419e-01,  3.46678934e-01, -2.44024019e-01,\n",
       "         2.34635328e-02, -2.08823746e-01, -3.69645993e-01,\n",
       "        -8.03822425e-02,  1.91394965e-01, -9.70990818e-03,\n",
       "         9.87084145e-03, -4.45707276e-04,  6.78316169e-02,\n",
       "        -1.08830959e-01,  1.40472940e-01, -6.04880642e-02,\n",
       "        -1.67966549e-01, -1.84906566e-02,  3.74657632e-01],\n",
       "       [-7.45247885e-03,  1.30675105e-01, -1.86873393e-02,\n",
       "         3.46737405e-02, -2.88974856e-01, -1.51396010e-01,\n",
       "        -7.28268401e-02, -1.52322466e-01, -2.31531023e-01,\n",
       "        -1.77121720e-01,  2.25394109e-02, -4.75412988e-01,\n",
       "        -1.18968382e-02,  8.58057058e-02,  5.73409999e-01,\n",
       "         1.17459988e-01,  6.05662266e-02, -1.08318792e-01,\n",
       "         2.20149286e-01,  1.11682712e-02,  4.26191998e-02,\n",
       "         3.62512521e-02,  3.05584697e-02,  7.93946315e-02,\n",
       "         2.05852653e-01,  8.40196882e-02,  7.24677861e-02,\n",
       "        -3.61715037e-02,  2.28225150e-01,  4.83607797e-02],\n",
       "       [-2.23109874e-01,  1.12700090e-01, -2.23739274e-01,\n",
       "        -1.95585825e-01,  6.42431331e-03, -1.67841085e-01,\n",
       "         4.05912528e-02, -1.11971181e-01,  2.56040015e-01,\n",
       "        -1.23740937e-01,  2.49984721e-01, -2.46645047e-01,\n",
       "         2.27153497e-01,  2.29160730e-01, -1.41925198e-01,\n",
       "        -1.45322935e-01,  3.58106924e-01,  2.72520279e-01,\n",
       "        -3.04077267e-01, -2.13722667e-01, -1.12141659e-01,\n",
       "         1.03340279e-01, -1.09614628e-01, -8.07321041e-02,\n",
       "         1.12316526e-01, -1.00677682e-01,  1.61908468e-01,\n",
       "         6.04880662e-02,  6.46379867e-02, -1.34174208e-01],\n",
       "       [ 9.54861511e-02,  2.40934805e-01,  8.63854683e-02,\n",
       "         7.49567318e-02, -6.92935004e-02,  1.29374173e-02,\n",
       "        -1.35601515e-01,  8.05437333e-03,  5.72069404e-01,\n",
       "         8.11025192e-02, -4.95481960e-02, -2.89142303e-01,\n",
       "        -1.14509514e-01, -9.19262557e-02,  1.60884055e-01,\n",
       "         4.35042224e-02, -1.41276552e-01,  8.62419871e-02,\n",
       "        -3.16529745e-01,  3.67542032e-01,  7.73612974e-02,\n",
       "         2.95499189e-02,  5.05078100e-02,  6.99219856e-02,\n",
       "        -1.28303537e-01, -1.72133259e-01, -3.11639054e-01,\n",
       "        -7.66496744e-02, -2.95629456e-02,  1.26098432e-02]])"
      ]
     },
     "execution_count": 10,
     "metadata": {},
     "output_type": "execute_result"
    }
   ],
   "source": [
    "pca_feature.components_"
   ]
  },
  {
   "cell_type": "code",
   "execution_count": null,
   "metadata": {},
   "outputs": [],
   "source": []
  }
 ],
 "metadata": {
  "kernelspec": {
   "display_name": "Python 3",
   "language": "python",
   "name": "python3"
  },
  "language_info": {
   "codemirror_mode": {
    "name": "ipython",
    "version": 3
   },
   "file_extension": ".py",
   "mimetype": "text/x-python",
   "name": "python",
   "nbconvert_exporter": "python",
   "pygments_lexer": "ipython3",
   "version": "3.8.5"
  }
 },
 "nbformat": 4,
 "nbformat_minor": 4
}
